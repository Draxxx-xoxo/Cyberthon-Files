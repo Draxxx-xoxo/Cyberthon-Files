{
 "cells": [
  {
   "cell_type": "markdown",
   "metadata": {},
   "source": [
    "## Variables\n",
    "### little bits of memory where you store your work and results"
   ]
  },
  {
   "cell_type": "code",
   "execution_count": 1,
   "metadata": {},
   "outputs": [
    {
     "name": "stdout",
     "output_type": "stream",
     "text": [
      "\n",
      "Part 01 of the CTFSG python series\n",
      "\n",
      "printing diff. number representations: 10 0b1010 0xa 0o12\n",
      "inputing diff. number representations: 42 42 42 42\n"
     ]
    }
   ],
   "source": [
    "print(\"\\nPart 01 of the CTFSG python series\\n\")\n",
    "\n",
    "# Variables can hold data, you must declare them like:\n",
    "x = 10          # integers\n",
    "y = 20.5        # floatingW points\n",
    "z = 1+2j        # complex numbers\n",
    "\n",
    "# Variable names are case sensitive and cannot begin with numbers.\n",
    "# Good programming practice is naming the variable well to represent their purpose\n",
    "\n",
    "# can represent them in other ways\n",
    "print(\"printing diff. number representations:\", x, bin(x), hex(x), oct(x))\n",
    "print(\"inputing diff. number representations:\", 42, 0b101010, 0x2a, 0o52)"
   ]
  },
  {
   "cell_type": "code",
   "execution_count": 2,
   "metadata": {},
   "outputs": [
    {
     "name": "stdout",
     "output_type": "stream",
     "text": [
      "1  >> 10 20.5 (1+2j)\n",
      "2  >> <class 'int'> <class 'float'> <class 'complex'>\n"
     ]
    }
   ],
   "source": [
    "# Can use them as arguments to other functions\n",
    "print(\"1  >>\", x, y, z)\n",
    "\n",
    "# using the type(<thing>) function we can find what are the types of things\n",
    "print(\"2  >>\", type(x), type(y), type(z))"
   ]
  },
  {
   "cell_type": "code",
   "execution_count": 3,
   "metadata": {},
   "outputs": [
    {
     "name": "stdout",
     "output_type": "stream",
     "text": [
      "3  >> 30.5\n",
      "4  >> -10.5\n",
      "5  >> 205.0\n",
      "6  >> 0.4878048780487805\n"
     ]
    }
   ],
   "source": [
    "# doing some arithmetic\n",
    "print(\"3  >>\", x + y)\n",
    "print(\"4  >>\", x - y)\n",
    "print(\"5  >>\", x * y)\n",
    "print(\"6  >>\", x / y)"
   ]
  },
  {
   "cell_type": "code",
   "execution_count": 4,
   "metadata": {},
   "outputs": [
    {
     "name": "stdout",
     "output_type": "stream",
     "text": [
      "7  >> 25.5\n",
      "8  >> -15.5\n",
      "9  >> 102.5\n",
      "10 >> 0.24390243902439024\n"
     ]
    }
   ],
   "source": [
    "# you can update variables anytime after creation\n",
    "x = 5\n",
    "\n",
    "# doing more arithmetic\n",
    "print(\"7  >>\", x + y)\n",
    "print(\"8  >>\", x - y)\n",
    "print(\"9  >>\", x * y)\n",
    "print(\"10 >>\", x / y)"
   ]
  },
  {
   "cell_type": "code",
   "execution_count": 5,
   "metadata": {},
   "outputs": [
    {
     "name": "stdout",
     "output_type": "stream",
     "text": [
      "11 >> (20.5+41j)\n",
      "12 >> (-3+4j)\n",
      "13 >> 33.333333333333336\n",
      "14 >> 33\n",
      "15 >> 1\n"
     ]
    }
   ],
   "source": [
    "# even more arithmetic\n",
    "print(\"11 >>\", y * z)\n",
    "print(\"12 >>\", z * z)\n",
    "\n",
    "print(\"13 >>\", 100  / 3)\n",
    "print(\"14 >>\", 100 // 3) # floor divison\n",
    "print(\"15 >>\", 100  % 3) # modulo (remainder after divison)"
   ]
  },
  {
   "cell_type": "code",
   "execution_count": 6,
   "metadata": {},
   "outputs": [
    {
     "name": "stdout",
     "output_type": "stream",
     "text": [
      "Ragul was here\t\t\u0007 1337\n"
     ]
    }
   ],
   "source": [
    "name = \"Ragul\"  # string (of characters)\n",
    "print(name, \"was here\\t\\t\\a\", 1337)"
   ]
  },
  {
   "cell_type": "code",
   "execution_count": 7,
   "metadata": {},
   "outputs": [
    {
     "name": "stdout",
     "output_type": "stream",
     "text": [
      "Ragul Ragul Ragul Ragul Ragul \n"
     ]
    }
   ],
   "source": [
    "# neat python trick for repeating strings\n",
    "print( (name + \" \") * x )"
   ]
  },
  {
   "cell_type": "code",
   "execution_count": 8,
   "metadata": {},
   "outputs": [
    {
     "name": "stdout",
     "output_type": "stream",
     "text": [
      "True False\n",
      "True\n",
      "False\n",
      "True\n",
      "True\n"
     ]
    }
   ],
   "source": [
    "# boolean logic\n",
    "someboolean = True\n",
    "print(someboolean, not someboolean)\n",
    "print(True or False)        # or\n",
    "print(True and False)       # and\n",
    "print(True ^ False)         # xor\n",
    "print(not (False or False)) # nor"
   ]
  },
  {
   "cell_type": "code",
   "execution_count": 9,
   "metadata": {},
   "outputs": [
    {
     "name": "stdout",
     "output_type": "stream",
     "text": [
      "somelist: [1, 2, 3, 'four'] \n",
      "\tcontains 4 items inside\n",
      "\n",
      "somelist: [1, 2, 3, 'four', 5, 6, 7, 8, [41, 42, 43]] \n",
      "\tcontains 9 items inside\n",
      "\n",
      "somelist: [1, 2, 3, 'four', 5, 6, 7, 8, [41, 42, 43], 10] \n",
      "\tcontains 10 items inside\n",
      "\n"
     ]
    }
   ],
   "source": [
    "# collections of variables\n",
    "# lists\n",
    "somelist = [1, 2, 3,\"four\"]\n",
    "print(\"somelist:\", somelist, \"\\n\\tcontains\", len(somelist), \"items inside\\n\")\n",
    "\n",
    "secondlist = [5, 6, 7, 8, [41, 42, 43]]\n",
    "somelist += secondlist\n",
    "print(\"somelist:\", somelist, \"\\n\\tcontains\", len(somelist), \"items inside\\n\")\n",
    "\n",
    "somelist.append(10)\n",
    "print(\"somelist:\", somelist, \"\\n\\tcontains\", len(somelist), \"items inside\\n\")"
   ]
  },
  {
   "cell_type": "code",
   "execution_count": 10,
   "metadata": {},
   "outputs": [
    {
     "name": "stdout",
     "output_type": "stream",
     "text": [
      "1 four 10 four\n",
      "[41, 42, 43]\n",
      "42 43\n"
     ]
    }
   ],
   "source": [
    "# indexing\n",
    "print(somelist[0], somelist[3], somelist[-1], somelist[-7])\n",
    "print(somelist[8])\n",
    "print(somelist[8][1], somelist[8][2])"
   ]
  },
  {
   "cell_type": "code",
   "execution_count": 11,
   "metadata": {},
   "outputs": [
    {
     "name": "stdout",
     "output_type": "stream",
     "text": [
      "[1, 2, 3, 'four', 5]\n",
      "[2, 3, 'four', 5, 6, 7]\n",
      "[2, 'four', 6]\n",
      "[8, [41, 42, 43], 10]\n",
      "[10, [41, 42, 43], 8, 7, 6, 5, 'four', 3, 2, 1]\n"
     ]
    }
   ],
   "source": [
    "# slicing arrays\n",
    "print(somelist[:5])\n",
    "print(somelist[1:7])\n",
    "print(somelist[1:7:2])\n",
    "print(somelist[-3:])\n",
    "print(somelist[::-1])"
   ]
  },
  {
   "cell_type": "code",
   "execution_count": 12,
   "metadata": {},
   "outputs": [
    {
     "name": "stdout",
     "output_type": "stream",
     "text": [
      "list of cubes: [0, 1, 8, 27, 64, 125, 216, 343, 512, 729]\n",
      "nested example: [[0, 0, 0, 0], [0, 1, 2, 3], [0, 2, 4, 6]]\n"
     ]
    }
   ],
   "source": [
    "# list comprehension\n",
    "print(\"list of cubes:\", [ x*x*x for x in range(10)])\n",
    "print(\"nested example:\", [ [x*y for y in range(4)] for x in range(3)])"
   ]
  },
  {
   "cell_type": "code",
   "execution_count": 13,
   "metadata": {},
   "outputs": [
    {
     "name": "stdout",
     "output_type": "stream",
     "text": [
      "(1, 2, 3) 2\n"
     ]
    }
   ],
   "source": [
    "# tuples (similar to lists)\n",
    "ahumbletuple = (1, 2, 3)\n",
    "print(ahumbletuple, ahumbletuple[1])\n",
    "# YOU CANNOT MODIFY TUPLES UNLIKE LISTS !! ahumbletuple[1] += 1 will not work"
   ]
  },
  {
   "cell_type": "code",
   "execution_count": 14,
   "metadata": {},
   "outputs": [
    {
     "name": "stdout",
     "output_type": "stream",
     "text": [
      "do not store passwords like this SuwuperSecretPassword\n",
      "{'player': 'password', 'admin': 'SuwuperSecretPassword', 'newguy': 'lmaowhatsup'}\n"
     ]
    }
   ],
   "source": [
    "# dictionaries (key-value pairs)\n",
    "users = {\"player\": \"password\", \"admin\": \"SuwuperSecretPassword\", \"CIO\": \"do not store passwords like this\"}\n",
    "print(users[\"CIO\"], users[\"admin\"])\n",
    "\n",
    "users[\"newguy\"] = \"lmaowhatsup\"\n",
    "del users[\"CIO\"]\n",
    "print(users)"
   ]
  },
  {
   "cell_type": "code",
   "execution_count": 15,
   "metadata": {},
   "outputs": [],
   "source": [
    "# CHALLENGE!\n",
    "#TODO: make a dictionary where the keys are 0 to 10 and the value is the first 10 multiples of the key using list comprehension"
   ]
  },
  {
   "cell_type": "code",
   "execution_count": 16,
   "metadata": {},
   "outputs": [
    {
     "name": "stdout",
     "output_type": "stream",
     "text": [
      "{0: [0, 0, 0, 0, 0, 0, 0, 0, 0, 0], 1: [0, 1, 2, 3, 4, 5, 6, 7, 8, 9], 2: [0, 2, 4, 6, 8, 10, 12, 14, 16, 18], 3: [0, 3, 6, 9, 12, 15, 18, 21, 24, 27], 4: [0, 4, 8, 12, 16, 20, 24, 28, 32, 36], 5: [0, 5, 10, 15, 20, 25, 30, 35, 40, 45], 6: [0, 6, 12, 18, 24, 30, 36, 42, 48, 54], 7: [0, 7, 14, 21, 28, 35, 42, 49, 56, 63], 8: [0, 8, 16, 24, 32, 40, 48, 56, 64, 72], 9: [0, 9, 18, 27, 36, 45, 54, 63, 72, 81], 10: [0, 10, 20, 30, 40, 50, 60, 70, 80, 90]}\n"
     ]
    }
   ],
   "source": [
    "mul_table = {}\n",
    "for i in range(11):\n",
    "    mul_table[i] = [i*j for j in range(10)]\n",
    "    \n",
    "print(mul_table)"
   ]
  },
  {
   "cell_type": "code",
   "execution_count": 17,
   "metadata": {},
   "outputs": [
    {
     "name": "stdout",
     "output_type": "stream",
     "text": [
      "{0: [0, 0, 0, 0, 0, 0, 0, 0, 0, 0],\n",
      " 1: [0, 1, 2, 3, 4, 5, 6, 7, 8, 9],\n",
      " 2: [0, 2, 4, 6, 8, 10, 12, 14, 16, 18],\n",
      " 3: [0, 3, 6, 9, 12, 15, 18, 21, 24, 27],\n",
      " 4: [0, 4, 8, 12, 16, 20, 24, 28, 32, 36],\n",
      " 5: [0, 5, 10, 15, 20, 25, 30, 35, 40, 45],\n",
      " 6: [0, 6, 12, 18, 24, 30, 36, 42, 48, 54],\n",
      " 7: [0, 7, 14, 21, 28, 35, 42, 49, 56, 63],\n",
      " 8: [0, 8, 16, 24, 32, 40, 48, 56, 64, 72],\n",
      " 9: [0, 9, 18, 27, 36, 45, 54, 63, 72, 81],\n",
      " 10: [0, 10, 20, 30, 40, 50, 60, 70, 80, 90]}\n"
     ]
    }
   ],
   "source": [
    "import pprint\n",
    "\n",
    "pprint.pprint(mul_table)"
   ]
  },
  {
   "cell_type": "code",
   "execution_count": null,
   "metadata": {},
   "outputs": [],
   "source": []
  }
 ],
 "metadata": {
  "kernelspec": {
   "display_name": "Python 3 (ipykernel)",
   "language": "python",
   "name": "python3"
  },
  "language_info": {
   "codemirror_mode": {
    "name": "ipython",
    "version": 3
   },
   "file_extension": ".py",
   "mimetype": "text/x-python",
   "name": "python",
   "nbconvert_exporter": "python",
   "pygments_lexer": "ipython3",
   "version": "3.9.5"
  }
 },
 "nbformat": 4,
 "nbformat_minor": 4
}
