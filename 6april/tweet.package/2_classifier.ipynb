{
 "cells": [
  {
   "cell_type": "code",
   "execution_count": null,
   "id": "c2057192-d04d-4ecd-b178-751217548b82",
   "metadata": {},
   "outputs": [],
   "source": [
    "# Cyberthon Data Science Training Materials\n",
    "# Author: Ragul Balaji <ragulbalaji@ctf.sg>\n",
    "# Dataset: Public Domain\n",
    "# ALT-TAB LABS LLP (C) 2019-present"
   ]
  },
  {
   "cell_type": "markdown",
   "id": "bb4a6b16",
   "metadata": {},
   "source": [
    "If you're opening this locally, make sure your environment has an install of the packages from the following versions. Uncomment the following cell and run it."
   ]
  },
  {
   "cell_type": "code",
   "execution_count": null,
   "id": "8e8edf50",
   "metadata": {},
   "outputs": [],
   "source": [
    "# ! pip install pandas==2.2.1 scikit-learn==1.0.2 matplotlib==3.5.1"
   ]
  },
  {
   "cell_type": "markdown",
   "id": "84666b03",
   "metadata": {},
   "source": [
    "# Part I: The Problem"
   ]
  },
  {
   "cell_type": "markdown",
   "id": "7e1115e2",
   "metadata": {},
   "source": [
    "Can we predict who sent a tweet? 🤔\n",
    "\n",
    "This is a classification problem - the target variable belongs to either of the two categories, in our example, the categories are `Donald Trump` and `Justin Trudeau`.\n",
    "\n",
    "Let's dive in and explore!"
   ]
  },
  {
   "cell_type": "markdown",
   "id": "278261e5",
   "metadata": {},
   "source": [
    "## Loading the Dataset\n",
    "\n",
    "We will load the file `train.csv` using pandas `read.csv()` into a `Dataframe` object.\n",
    "\n",
    "Before doing any analysis, we should always understand our dataset."
   ]
  },
  {
   "cell_type": "code",
   "execution_count": null,
   "id": "cbcf4ea0-531e-4491-99d8-80c7700f010c",
   "metadata": {},
   "outputs": [],
   "source": [
    "import pandas as pd\n",
    "\n",
    "data = pd.read_csv(\"train.csv\")\n",
    "data.head()"
   ]
  },
  {
   "cell_type": "code",
   "execution_count": null,
   "id": "6e72bbb5",
   "metadata": {},
   "outputs": [],
   "source": [
    "# Inspecting the Tweets in more details\n",
    "data['status'].iloc[2]"
   ]
  },
  {
   "cell_type": "markdown",
   "id": "d66dd41c",
   "metadata": {},
   "source": [
    "## Target variable and Predictor(s)\n",
    "\n",
    "We first identify that our target variable is `\"author\"`, and our predictor variable is `\"status\"`.\n",
    "\n",
    "You can also apply stemming/lemmatization (covered earlier), or engineer new features that could be useful in model prediction (not covered)."
   ]
  },
  {
   "cell_type": "code",
   "execution_count": null,
   "id": "9020070d-f9ca-499c-9e0c-d449af671d68",
   "metadata": {},
   "outputs": [],
   "source": [
    "# identify target and predictor\n",
    "y = data['author']\n",
    "X = data['status']"
   ]
  },
  {
   "cell_type": "markdown",
   "id": "a3e5e137",
   "metadata": {},
   "source": [
    "## Training, Validation and Test set"
   ]
  },
  {
   "cell_type": "markdown",
   "id": "939a57cd",
   "metadata": {},
   "source": [
    "### Training set\n",
    "\n",
    "- Data used to train our model\n",
    "- Data and labels are provided to the model, the model tune its parameters to fit the model"
   ]
  },
  {
   "cell_type": "markdown",
   "id": "9df9ccd6",
   "metadata": {},
   "source": [
    "### Validation set\n",
    "\n",
    "- Data used to tune the hyperparameters of our model\n",
    "- Optional"
   ]
  },
  {
   "cell_type": "markdown",
   "id": "b653d13c",
   "metadata": {},
   "source": [
    "### Test Set\n",
    "\n",
    "- Data used to test our model after it has been trained\n",
    "- Predicted labels are compared against our true labels to compute the accuracy, to determine the model's performance."
   ]
  },
  {
   "cell_type": "markdown",
   "id": "e083e0ff",
   "metadata": {},
   "source": [
    "### Why shouldn't the model be trained using the test set too?\n",
    "\n",
    "- We want our model to generalize well on unseen data.\n",
    "- Trained model gains information about the test set and the predictions made by the model will be biased towards the test set, resulting in overestimation of the model's performance.\n",
    "- In practice, we CANNOT have data in the train set appearing in the test set. This is called \"data leakage\"."
   ]
  },
  {
   "cell_type": "markdown",
   "id": "e532bbe8",
   "metadata": {},
   "source": [
    "### Using Exams as analogy\n",
    "\n",
    "- Train Set: Learning materials for students (Lecture notes, tutorials, Ten-year Series, ...)\n",
    "- Test Set: Exams\n",
    "\n",
    "You will not know the exam questions before the exams, unless the questions are leaked in advance (data leakage) "
   ]
  },
  {
   "cell_type": "markdown",
   "id": "c78058a8",
   "metadata": {},
   "source": [
    "Here, we specify some parameters\n",
    "- `random_state=42` : for reproducible results\n",
    "- `test_size=0.25` : dataset will be split into 75% training and 25% test"
   ]
  },
  {
   "cell_type": "code",
   "execution_count": null,
   "id": "66bc85c9-5375-4eb9-bcbc-8ebb8c74f466",
   "metadata": {},
   "outputs": [],
   "source": [
    "from sklearn.model_selection import train_test_split\n",
    "\n",
    "# split dataset\n",
    "X_train, X_test, y_train, y_test = train_test_split(X,y,random_state=42,test_size=0.25)"
   ]
  },
  {
   "cell_type": "markdown",
   "id": "68e48536",
   "metadata": {},
   "source": [
    "Great! Now that we have split our data, are we able to train the model using training set yet? No!"
   ]
  },
  {
   "cell_type": "markdown",
   "id": "1c8dac6e",
   "metadata": {},
   "source": [
    "## Text Vectorization\n",
    "\n",
    "As covered earlier, machine learning models require numerical numbers as inputs. Text data unfortunately doesn't work here.😞\n",
    "\n",
    "Let's use `CountVectorizer` to convert the tweets into numerical vectors!\n",
    "\n",
    "We first create an instance of `CountVectorizer`.\n",
    "\n",
    "We want the model to learn the vocabulary from the training set, so we fit the `CountVectorizer` using only the training set, not the test set.\n",
    "\n",
    "Then transform the training set and test set to encode each tweet as a vector."
   ]
  },
  {
   "cell_type": "code",
   "execution_count": null,
   "id": "a5970924-74e9-4a7e-b93b-757f1b17d909",
   "metadata": {},
   "outputs": [],
   "source": [
    "from sklearn.feature_extraction.text import CountVectorizer\n",
    "\n",
    "# Create an instance of CountVectorizer\n",
    "vectorizer = CountVectorizer()\n",
    "\n",
    "# Fit and transform/vectorize the training set\n",
    "vec_train = vectorizer.fit_transform(X_train)\n",
    "\n",
    "# Transform/Vectorize the validation set\n",
    "vec_validation = vectorizer.transform(X_test)"
   ]
  },
  {
   "cell_type": "markdown",
   "id": "75c0a98f",
   "metadata": {},
   "source": [
    "Confused? 😓 Here's the simple demo of `CountVectorizer` using the 2 documents mentioned in the training slides.\n",
    "\n",
    "`doc1 = \"Data Science taught during Cyberthon\"`\n",
    "\n",
    "`doc2 = \"CSIT focused on data science and data analytics\"`\n",
    "\n",
    "We fit `CountVectorizer` using `doc1` and `doc2`, so the vocabulary contain words from both documents."
   ]
  },
  {
   "cell_type": "code",
   "execution_count": null,
   "id": "817efcea",
   "metadata": {},
   "outputs": [],
   "source": [
    "doc1 = \"Data Science taught during Cyberthon\"\n",
    "doc2 = \"CSIT focused on data science and data analytics\"\n",
    "\n",
    "demo_vec = CountVectorizer()\n",
    "matrix = demo_vec.fit_transform([doc1, doc2])\n",
    "\n",
    "# CountVectorizer learns the vocabulary from doc1\n",
    "demo_vec.get_feature_names_out()"
   ]
  },
  {
   "cell_type": "markdown",
   "id": "f2d11a01",
   "metadata": {},
   "source": [
    "Generate the document term matrix. \n",
    "\n",
    "There are 2 documents and 10 unique terms, hence 2x10 matrix.\n",
    "\n",
    "Cell specify the count of term in the document."
   ]
  },
  {
   "cell_type": "code",
   "execution_count": null,
   "id": "3f663ccb",
   "metadata": {
    "scrolled": true
   },
   "outputs": [],
   "source": [
    "pd.DataFrame(matrix.toarray(), columns=demo_vec.get_feature_names_out(), index = ['doc1','doc2'])"
   ]
  },
  {
   "cell_type": "markdown",
   "id": "844b9fb0",
   "metadata": {},
   "source": [
    "## Machine Learning Model\n",
    "\n",
    "We will use the library `sklearn` due to its wide selection of models. Machine learning models in `sklearn` are objects which need to be initialized first.\n",
    "\n",
    "Let's use what we learnt earlier - Decision 🌲!\n",
    "\n",
    "Here, we specify some parameters\n",
    "- `random_state=42` : for reproducible results\n",
    "- `max_depth=8` : to limit tree depth to 8\n",
    "\n",
    "For detailed documention, refer here: https://scikit-learn.org/stable/modules/generated/sklearn.tree.DecisionTreeClassifier.html\n",
    "\n",
    "Some useful methods\n",
    "- `.fit()` : to pass in our training set to train a machine learning model\n",
    "- `.predict()` : to pass in our test set to make predictions using our model"
   ]
  },
  {
   "cell_type": "code",
   "execution_count": null,
   "id": "4616ba94-acd7-47f7-8fd2-137a31c32881",
   "metadata": {},
   "outputs": [],
   "source": [
    "from sklearn.tree import DecisionTreeClassifier\n",
    "\n",
    "# Initialize our machine learning model\n",
    "model = DecisionTreeClassifier(random_state=42, max_depth=8)"
   ]
  },
  {
   "cell_type": "code",
   "execution_count": null,
   "id": "ced200da-4d78-4f8e-aa24-33958fedf663",
   "metadata": {},
   "outputs": [],
   "source": [
    "# Train the model\n",
    "model.fit(vec_train,y_train)"
   ]
  },
  {
   "cell_type": "code",
   "execution_count": null,
   "id": "308102f6-4997-4af1-8985-86bca3b01b61",
   "metadata": {},
   "outputs": [],
   "source": [
    "# Make predictions on test set\n",
    "y_pred = model.predict(vec_validation)"
   ]
  },
  {
   "cell_type": "code",
   "execution_count": null,
   "id": "bf1c0702-41cc-4b3e-9e0d-665924556f5f",
   "metadata": {},
   "outputs": [],
   "source": [
    "# Score the model using accuracy_score\n",
    "from sklearn.metrics import accuracy_score, ConfusionMatrixDisplay\n",
    "\n",
    "acc = accuracy_score(y_true = y_test, y_pred = y_pred)\n",
    "\n",
    "print(f\"Accuracy: {acc}\")"
   ]
  },
  {
   "cell_type": "code",
   "execution_count": null,
   "id": "dbe91b0b",
   "metadata": {},
   "outputs": [],
   "source": [
    "# Visualise the confusion matrix\n",
    "from sklearn.metrics import ConfusionMatrixDisplay\n",
    "import matplotlib.pyplot as plt\n",
    "\n",
    "ConfusionMatrixDisplay.from_predictions(y_true = y_test, y_pred = y_pred)\n",
    "plt.show()"
   ]
  },
  {
   "cell_type": "markdown",
   "id": "bc97860f",
   "metadata": {},
   "source": [
    "### Challenge\n",
    "Retrain the model, but use TF-IDF as features instead of CountVectorizer."
   ]
  },
  {
   "cell_type": "markdown",
   "id": "2810d2f4",
   "metadata": {},
   "source": [
    "# Part II: Model Interpretability"
   ]
  },
  {
   "cell_type": "markdown",
   "id": "42d06f5a",
   "metadata": {},
   "source": [
    "How does the model make its predictions? Let's visualize the 🌲!\n",
    "\n",
    "### Example: Model predicts Justin Trudeau sent the tweet\n",
    "Starting at the root node (the node where the 🌲 begins), <br>\n",
    "if `de` is absent in the tweet, go to the left branch, <br>\n",
    "if `rt` is present in the tweet, go to the right branch, <br>\n",
    "if `thank` and `hannity` and `seanhannity` are absent in the tweet, <br>\n",
    "the model predicts the tweet sender as `Justin Trudeau`."
   ]
  },
  {
   "cell_type": "code",
   "execution_count": null,
   "id": "2d191277-3f07-460c-af00-cfe49a20631e",
   "metadata": {
    "scrolled": true
   },
   "outputs": [],
   "source": [
    "# RUN THIS PART AFTER YOU ARE \n",
    "# DONE WITH PART 1\n",
    "\n",
    "from sklearn import tree\n",
    "import matplotlib.pyplot as plt\n",
    "\n",
    "plt.figure(figsize=(16,16))\n",
    "tree.plot_tree(model, fontsize=10, filled=True, class_names=['Donald', 'Justin'], feature_names=vectorizer.get_feature_names_out())\n",
    "plt.show()"
   ]
  },
  {
   "cell_type": "markdown",
   "id": "9e17c6ef",
   "metadata": {},
   "source": [
    "The _absence_ of `de`, _presence_ of `rt`, _absence_ of `thank` and `hannity` and `seanhannity` result in the model predicting `Justin Trudeau` as the tweet sender."
   ]
  },
  {
   "cell_type": "markdown",
   "id": "35c2a430",
   "metadata": {},
   "source": [
    "# Part III: Model Attack"
   ]
  },
  {
   "cell_type": "markdown",
   "id": "1892fedb",
   "metadata": {},
   "source": [
    "Now, you are able to identify what features the model uses to make its predictions. \n",
    "\n",
    "Are you able to make minimal modifications to a tweet to fool the model?\n",
    "\n",
    "We have established in Part II that `de`, `rt`, `thank`, `hannity` and `seanhannity` are features used by the model to make its predictions.\n",
    "\n",
    "Specifically, the absence of `de`, presence of `rt`, absence of `thank` and `hannity` and `seanhannity` result in the model predicting `Justin Trudeau` as the tweet sender.\n",
    "\n",
    "Using the same features, what would fool the model to classify `Donald Trump` as the tweet sender? If `thank` or `hannity` is present in the tweet!\n",
    "\n",
    "Let's explore modifying a sample tweet from the test set!"
   ]
  },
  {
   "cell_type": "code",
   "execution_count": null,
   "id": "4ec6e5e0-85d7-40fa-a17e-b7be7c8ff224",
   "metadata": {},
   "outputs": [],
   "source": [
    "sampleid = 1\n",
    "truth = y_test.iloc[sampleid]\n",
    "\n",
    "print('tweet:', repr(X_test.iloc[sampleid]))\n",
    "print('\\n   classifies as:', y_pred[sampleid])\n",
    "print(' ground truth is:', truth)"
   ]
  },
  {
   "cell_type": "code",
   "execution_count": null,
   "id": "26e822f6",
   "metadata": {},
   "outputs": [],
   "source": [
    "# we want to modify an input so that the model misclassifies\n",
    "\n",
    "original = X_test.iloc[sampleid]\n",
    "attack1 = X_test.iloc[sampleid] + ' thank'\n",
    "attack2 = X_test.iloc[sampleid] + ' hannity'\n",
    "\n",
    "print('\\n original:', repr(original))\n",
    "print('\\n attack1:', repr(attack1))\n",
    "print('\\n attack2:', repr(attack2))"
   ]
  },
  {
   "cell_type": "markdown",
   "id": "e0904f37",
   "metadata": {},
   "source": [
    "Again, same concept as before - vectorize text before input to machine learning models."
   ]
  },
  {
   "cell_type": "code",
   "execution_count": null,
   "id": "4db26dea",
   "metadata": {},
   "outputs": [],
   "source": [
    "# vectorize the attacks\n",
    "vec_attack = vectorizer.transform([original, attack1, attack2])\n",
    "\n",
    "# feed attacks into model for prediction\n",
    "attack_pred = model.predict(vec_attack)\n",
    "\n",
    "print('\\n   truth:', truth)\n",
    "print('\\n   original:', attack_pred[0])\n",
    "print('\\n   attack1:', attack_pred[1])\n",
    "print('\\n   attack2:', attack_pred[2])"
   ]
  },
  {
   "cell_type": "markdown",
   "id": "4963121a",
   "metadata": {},
   "source": [
    "Modifying the sample tweet by adding `thank` or `hannity` fooled the model to predict `Donald Trump` instead of `Justin Trudeau` as the tweet sender.\n",
    "\n",
    "Can you identify another modification to fool the model? 😁"
   ]
  }
 ],
 "metadata": {
  "kernelspec": {
   "display_name": "Python 3 (ipykernel)",
   "language": "python",
   "name": "python3"
  },
  "language_info": {
   "codemirror_mode": {
    "name": "ipython",
    "version": 3
   },
   "file_extension": ".py",
   "mimetype": "text/x-python",
   "name": "python",
   "nbconvert_exporter": "python",
   "pygments_lexer": "ipython3",
   "version": "3.10.13"
  }
 },
 "nbformat": 4,
 "nbformat_minor": 5
}
