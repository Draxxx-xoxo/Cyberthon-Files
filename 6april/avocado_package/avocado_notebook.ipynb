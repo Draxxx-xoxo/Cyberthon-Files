{
 "cells": [
  {
   "cell_type": "markdown",
   "metadata": {},
   "source": [
    "# Avocado Data Analysis Notebook\n",
    "ALT-TAB LABS LLP &copy; 2020 All Rights Reserved"
   ]
  },
  {
   "cell_type": "code",
   "execution_count": 17,
   "metadata": {},
   "outputs": [
    {
     "data": {
      "text/plain": [
       "['.DS_Store',\n",
       " 'avocado_notebook.ipynb',\n",
       " '__pycache__',\n",
       " 'pyctfsglib.py',\n",
       " 'avocado-test.csv',\n",
       " '.ipynb_checkpoints',\n",
       " 'avocado_package.zip',\n",
       " 'AvocadoSubmissionFormat.png',\n",
       " 'avocado-train.csv']"
      ]
     },
     "execution_count": 17,
     "metadata": {},
     "output_type": "execute_result"
    }
   ],
   "source": [
    "# show files in current directory\n",
    "import os\n",
    "os.listdir()"
   ]
  },
  {
   "cell_type": "code",
   "execution_count": 90,
   "metadata": {},
   "outputs": [],
   "source": [
    "# load csvs\n",
    "import pandas as pd\n",
    "avo_TRAIN = pd.read_csv('avocado-train.csv', index_col='id')\n",
    "avo_TEST = pd.read_csv('avocado-test.csv', index_col='id')"
   ]
  },
  {
   "cell_type": "code",
   "execution_count": 43,
   "metadata": {
    "scrolled": true
   },
   "outputs": [
    {
     "data": {
      "text/html": [
       "<div>\n",
       "<style scoped>\n",
       "    .dataframe tbody tr th:only-of-type {\n",
       "        vertical-align: middle;\n",
       "    }\n",
       "\n",
       "    .dataframe tbody tr th {\n",
       "        vertical-align: top;\n",
       "    }\n",
       "\n",
       "    .dataframe thead th {\n",
       "        text-align: right;\n",
       "    }\n",
       "</style>\n",
       "<table border=\"1\" class=\"dataframe\">\n",
       "  <thead>\n",
       "    <tr style=\"text-align: right;\">\n",
       "      <th></th>\n",
       "      <th>DataBatch</th>\n",
       "      <th>Date</th>\n",
       "      <th>TotalVolume</th>\n",
       "      <th>4046</th>\n",
       "      <th>4225</th>\n",
       "      <th>4770</th>\n",
       "      <th>TotalBags</th>\n",
       "      <th>SmallBags</th>\n",
       "      <th>LargeBags</th>\n",
       "      <th>XLargeBags</th>\n",
       "      <th>type</th>\n",
       "      <th>region</th>\n",
       "      <th>AveragePrice</th>\n",
       "    </tr>\n",
       "    <tr>\n",
       "      <th>id</th>\n",
       "      <th></th>\n",
       "      <th></th>\n",
       "      <th></th>\n",
       "      <th></th>\n",
       "      <th></th>\n",
       "      <th></th>\n",
       "      <th></th>\n",
       "      <th></th>\n",
       "      <th></th>\n",
       "      <th></th>\n",
       "      <th></th>\n",
       "      <th></th>\n",
       "      <th></th>\n",
       "    </tr>\n",
       "  </thead>\n",
       "  <tbody>\n",
       "    <tr>\n",
       "      <td>0</td>\n",
       "      <td>7</td>\n",
       "      <td>2016-11-06</td>\n",
       "      <td>183542.31</td>\n",
       "      <td>98949.98</td>\n",
       "      <td>22891.61</td>\n",
       "      <td>95.00</td>\n",
       "      <td>61605.72</td>\n",
       "      <td>43571.99</td>\n",
       "      <td>17499.01</td>\n",
       "      <td>534.72</td>\n",
       "      <td>conventional</td>\n",
       "      <td>NewOrleansMobile</td>\n",
       "      <td>1.49</td>\n",
       "    </tr>\n",
       "    <tr>\n",
       "      <td>1</td>\n",
       "      <td>24</td>\n",
       "      <td>2017-07-16</td>\n",
       "      <td>224434.92</td>\n",
       "      <td>42951.31</td>\n",
       "      <td>120360.02</td>\n",
       "      <td>131.85</td>\n",
       "      <td>60991.74</td>\n",
       "      <td>53141.81</td>\n",
       "      <td>3621.04</td>\n",
       "      <td>4228.89</td>\n",
       "      <td>conventional</td>\n",
       "      <td>HarrisburgScranton</td>\n",
       "      <td>1.38</td>\n",
       "    </tr>\n",
       "    <tr>\n",
       "      <td>2</td>\n",
       "      <td>51</td>\n",
       "      <td>2015-01-04</td>\n",
       "      <td>3846.69</td>\n",
       "      <td>1500.15</td>\n",
       "      <td>938.35</td>\n",
       "      <td>0.00</td>\n",
       "      <td>1408.19</td>\n",
       "      <td>1071.35</td>\n",
       "      <td>336.84</td>\n",
       "      <td>0.00</td>\n",
       "      <td>organic</td>\n",
       "      <td>Atlanta</td>\n",
       "      <td>1.76</td>\n",
       "    </tr>\n",
       "    <tr>\n",
       "      <td>3</td>\n",
       "      <td>22</td>\n",
       "      <td>2015-07-26</td>\n",
       "      <td>91825.07</td>\n",
       "      <td>1679.28</td>\n",
       "      <td>45615.48</td>\n",
       "      <td>741.77</td>\n",
       "      <td>43788.54</td>\n",
       "      <td>43788.54</td>\n",
       "      <td>0.00</td>\n",
       "      <td>0.00</td>\n",
       "      <td>conventional</td>\n",
       "      <td>BuffaloRochester</td>\n",
       "      <td>1.39</td>\n",
       "    </tr>\n",
       "    <tr>\n",
       "      <td>4</td>\n",
       "      <td>50</td>\n",
       "      <td>2015-01-11</td>\n",
       "      <td>54644.32</td>\n",
       "      <td>1491.88</td>\n",
       "      <td>33759.12</td>\n",
       "      <td>1325.17</td>\n",
       "      <td>18068.15</td>\n",
       "      <td>12165.94</td>\n",
       "      <td>5902.21</td>\n",
       "      <td>0.00</td>\n",
       "      <td>conventional</td>\n",
       "      <td>Pittsburgh</td>\n",
       "      <td>1.54</td>\n",
       "    </tr>\n",
       "  </tbody>\n",
       "</table>\n",
       "</div>"
      ],
      "text/plain": [
       "    DataBatch        Date  TotalVolume      4046       4225     4770  \\\n",
       "id                                                                     \n",
       "0           7  2016-11-06    183542.31  98949.98   22891.61    95.00   \n",
       "1          24  2017-07-16    224434.92  42951.31  120360.02   131.85   \n",
       "2          51  2015-01-04      3846.69   1500.15     938.35     0.00   \n",
       "3          22  2015-07-26     91825.07   1679.28   45615.48   741.77   \n",
       "4          50  2015-01-11     54644.32   1491.88   33759.12  1325.17   \n",
       "\n",
       "    TotalBags  SmallBags  LargeBags  XLargeBags          type  \\\n",
       "id                                                              \n",
       "0    61605.72   43571.99   17499.01      534.72  conventional   \n",
       "1    60991.74   53141.81    3621.04     4228.89  conventional   \n",
       "2     1408.19    1071.35     336.84        0.00       organic   \n",
       "3    43788.54   43788.54       0.00        0.00  conventional   \n",
       "4    18068.15   12165.94    5902.21        0.00  conventional   \n",
       "\n",
       "                region  AveragePrice  \n",
       "id                                    \n",
       "0     NewOrleansMobile          1.49  \n",
       "1   HarrisburgScranton          1.38  \n",
       "2              Atlanta          1.76  \n",
       "3     BuffaloRochester          1.39  \n",
       "4           Pittsburgh          1.54  "
      ]
     },
     "execution_count": 43,
     "metadata": {},
     "output_type": "execute_result"
    }
   ],
   "source": [
    "# View the data!\n",
    "avo_TRAIN.head()\n",
    "#avo_TRAIN.describe()\n",
    "\n",
    "#avo_TEST.head()\n",
    "#avo_TEST.describe()\n",
    "#avo_TEST.boxplot()"
   ]
  },
  {
   "cell_type": "code",
   "execution_count": 47,
   "metadata": {},
   "outputs": [
    {
     "data": {
      "text/html": [
       "<div>\n",
       "<style scoped>\n",
       "    .dataframe tbody tr th:only-of-type {\n",
       "        vertical-align: middle;\n",
       "    }\n",
       "\n",
       "    .dataframe tbody tr th {\n",
       "        vertical-align: top;\n",
       "    }\n",
       "\n",
       "    .dataframe thead th {\n",
       "        text-align: right;\n",
       "    }\n",
       "</style>\n",
       "<table border=\"1\" class=\"dataframe\">\n",
       "  <thead>\n",
       "    <tr style=\"text-align: right;\">\n",
       "      <th></th>\n",
       "      <th>DataBatch</th>\n",
       "      <th>Date</th>\n",
       "      <th>TotalVolume</th>\n",
       "      <th>4046</th>\n",
       "      <th>4225</th>\n",
       "      <th>4770</th>\n",
       "      <th>TotalBags</th>\n",
       "      <th>SmallBags</th>\n",
       "      <th>LargeBags</th>\n",
       "      <th>XLargeBags</th>\n",
       "      <th>type</th>\n",
       "      <th>region</th>\n",
       "      <th>AveragePrice</th>\n",
       "    </tr>\n",
       "    <tr>\n",
       "      <th>id</th>\n",
       "      <th></th>\n",
       "      <th></th>\n",
       "      <th></th>\n",
       "      <th></th>\n",
       "      <th></th>\n",
       "      <th></th>\n",
       "      <th></th>\n",
       "      <th></th>\n",
       "      <th></th>\n",
       "      <th></th>\n",
       "      <th></th>\n",
       "      <th></th>\n",
       "      <th></th>\n",
       "    </tr>\n",
       "  </thead>\n",
       "  <tbody>\n",
       "    <tr>\n",
       "      <td>0</td>\n",
       "      <td>7</td>\n",
       "      <td>2016-11-06</td>\n",
       "      <td>183542.31</td>\n",
       "      <td>98949.98</td>\n",
       "      <td>22891.61</td>\n",
       "      <td>95.00</td>\n",
       "      <td>61605.72</td>\n",
       "      <td>43571.99</td>\n",
       "      <td>17499.01</td>\n",
       "      <td>534.72</td>\n",
       "      <td>0</td>\n",
       "      <td>NewOrleansMobile</td>\n",
       "      <td>1.49</td>\n",
       "    </tr>\n",
       "    <tr>\n",
       "      <td>1</td>\n",
       "      <td>24</td>\n",
       "      <td>2017-07-16</td>\n",
       "      <td>224434.92</td>\n",
       "      <td>42951.31</td>\n",
       "      <td>120360.02</td>\n",
       "      <td>131.85</td>\n",
       "      <td>60991.74</td>\n",
       "      <td>53141.81</td>\n",
       "      <td>3621.04</td>\n",
       "      <td>4228.89</td>\n",
       "      <td>0</td>\n",
       "      <td>HarrisburgScranton</td>\n",
       "      <td>1.38</td>\n",
       "    </tr>\n",
       "    <tr>\n",
       "      <td>2</td>\n",
       "      <td>51</td>\n",
       "      <td>2015-01-04</td>\n",
       "      <td>3846.69</td>\n",
       "      <td>1500.15</td>\n",
       "      <td>938.35</td>\n",
       "      <td>0.00</td>\n",
       "      <td>1408.19</td>\n",
       "      <td>1071.35</td>\n",
       "      <td>336.84</td>\n",
       "      <td>0.00</td>\n",
       "      <td>1</td>\n",
       "      <td>Atlanta</td>\n",
       "      <td>1.76</td>\n",
       "    </tr>\n",
       "    <tr>\n",
       "      <td>3</td>\n",
       "      <td>22</td>\n",
       "      <td>2015-07-26</td>\n",
       "      <td>91825.07</td>\n",
       "      <td>1679.28</td>\n",
       "      <td>45615.48</td>\n",
       "      <td>741.77</td>\n",
       "      <td>43788.54</td>\n",
       "      <td>43788.54</td>\n",
       "      <td>0.00</td>\n",
       "      <td>0.00</td>\n",
       "      <td>0</td>\n",
       "      <td>BuffaloRochester</td>\n",
       "      <td>1.39</td>\n",
       "    </tr>\n",
       "    <tr>\n",
       "      <td>4</td>\n",
       "      <td>50</td>\n",
       "      <td>2015-01-11</td>\n",
       "      <td>54644.32</td>\n",
       "      <td>1491.88</td>\n",
       "      <td>33759.12</td>\n",
       "      <td>1325.17</td>\n",
       "      <td>18068.15</td>\n",
       "      <td>12165.94</td>\n",
       "      <td>5902.21</td>\n",
       "      <td>0.00</td>\n",
       "      <td>0</td>\n",
       "      <td>Pittsburgh</td>\n",
       "      <td>1.54</td>\n",
       "    </tr>\n",
       "  </tbody>\n",
       "</table>\n",
       "</div>"
      ],
      "text/plain": [
       "    DataBatch        Date  TotalVolume      4046       4225     4770  \\\n",
       "id                                                                     \n",
       "0           7  2016-11-06    183542.31  98949.98   22891.61    95.00   \n",
       "1          24  2017-07-16    224434.92  42951.31  120360.02   131.85   \n",
       "2          51  2015-01-04      3846.69   1500.15     938.35     0.00   \n",
       "3          22  2015-07-26     91825.07   1679.28   45615.48   741.77   \n",
       "4          50  2015-01-11     54644.32   1491.88   33759.12  1325.17   \n",
       "\n",
       "    TotalBags  SmallBags  LargeBags  XLargeBags  type              region  \\\n",
       "id                                                                          \n",
       "0    61605.72   43571.99   17499.01      534.72     0    NewOrleansMobile   \n",
       "1    60991.74   53141.81    3621.04     4228.89     0  HarrisburgScranton   \n",
       "2     1408.19    1071.35     336.84        0.00     1             Atlanta   \n",
       "3    43788.54   43788.54       0.00        0.00     0    BuffaloRochester   \n",
       "4    18068.15   12165.94    5902.21        0.00     0          Pittsburgh   \n",
       "\n",
       "    AveragePrice  \n",
       "id                \n",
       "0           1.49  \n",
       "1           1.38  \n",
       "2           1.76  \n",
       "3           1.39  \n",
       "4           1.54  "
      ]
     },
     "execution_count": 47,
     "metadata": {},
     "output_type": "execute_result"
    }
   ],
   "source": [
    "# Clean Data\n",
    "\n",
    "# Drops missing values \n",
    "avo_TRAIN = avo_TRAIN.dropna(axis=0)\n",
    "\n",
    "# Convert strings to numbers\n",
    "avotypes = {\"conventional\": 0, \"organic\": 1}\n",
    "avo_TRAIN.type = [avotypes[x] for x in avo_TRAIN.type]\n",
    "avo_TRAIN.head()\n",
    "\n",
    "# Read more advanced ways to clean data\n",
    "# https://scikit-learn.org/stable/modules/generated/sklearn.preprocessing.LabelEncoder.html\n",
    "# https://stackoverflow.com/questions/24458645/label-encoding-across-multiple-columns-in-scikit-learn"
   ]
  },
  {
   "cell_type": "code",
   "execution_count": 49,
   "metadata": {},
   "outputs": [],
   "source": [
    "# Select data for learning\n",
    "features = [\"TotalVolume\", \"TotalBags\", \"type\"]\n",
    "\n",
    "X = avo_TRAIN[features]\n",
    "y = avo_TRAIN.AveragePrice"
   ]
  },
  {
   "cell_type": "code",
   "execution_count": 50,
   "metadata": {},
   "outputs": [
    {
     "data": {
      "text/html": [
       "<div>\n",
       "<style scoped>\n",
       "    .dataframe tbody tr th:only-of-type {\n",
       "        vertical-align: middle;\n",
       "    }\n",
       "\n",
       "    .dataframe tbody tr th {\n",
       "        vertical-align: top;\n",
       "    }\n",
       "\n",
       "    .dataframe thead th {\n",
       "        text-align: right;\n",
       "    }\n",
       "</style>\n",
       "<table border=\"1\" class=\"dataframe\">\n",
       "  <thead>\n",
       "    <tr style=\"text-align: right;\">\n",
       "      <th></th>\n",
       "      <th>TotalVolume</th>\n",
       "      <th>TotalBags</th>\n",
       "      <th>type</th>\n",
       "    </tr>\n",
       "    <tr>\n",
       "      <th>id</th>\n",
       "      <th></th>\n",
       "      <th></th>\n",
       "      <th></th>\n",
       "    </tr>\n",
       "  </thead>\n",
       "  <tbody>\n",
       "    <tr>\n",
       "      <td>0</td>\n",
       "      <td>183542.31</td>\n",
       "      <td>61605.72</td>\n",
       "      <td>0</td>\n",
       "    </tr>\n",
       "    <tr>\n",
       "      <td>1</td>\n",
       "      <td>224434.92</td>\n",
       "      <td>60991.74</td>\n",
       "      <td>0</td>\n",
       "    </tr>\n",
       "    <tr>\n",
       "      <td>2</td>\n",
       "      <td>3846.69</td>\n",
       "      <td>1408.19</td>\n",
       "      <td>1</td>\n",
       "    </tr>\n",
       "    <tr>\n",
       "      <td>3</td>\n",
       "      <td>91825.07</td>\n",
       "      <td>43788.54</td>\n",
       "      <td>0</td>\n",
       "    </tr>\n",
       "    <tr>\n",
       "      <td>4</td>\n",
       "      <td>54644.32</td>\n",
       "      <td>18068.15</td>\n",
       "      <td>0</td>\n",
       "    </tr>\n",
       "  </tbody>\n",
       "</table>\n",
       "</div>"
      ],
      "text/plain": [
       "    TotalVolume  TotalBags  type\n",
       "id                              \n",
       "0     183542.31   61605.72     0\n",
       "1     224434.92   60991.74     0\n",
       "2       3846.69    1408.19     1\n",
       "3      91825.07   43788.54     0\n",
       "4      54644.32   18068.15     0"
      ]
     },
     "execution_count": 50,
     "metadata": {},
     "output_type": "execute_result"
    }
   ],
   "source": [
    "X.head()\n",
    "#y.head()"
   ]
  },
  {
   "cell_type": "markdown",
   "metadata": {},
   "source": [
    "# Regression Time!"
   ]
  },
  {
   "cell_type": "code",
   "execution_count": 56,
   "metadata": {},
   "outputs": [],
   "source": [
    "# Sci Kit Learn! Scientific Computing library for python\n",
    "from sklearn import *"
   ]
  },
  {
   "cell_type": "code",
   "execution_count": 72,
   "metadata": {},
   "outputs": [],
   "source": [
    "# Pick the regression model we want to use\n",
    "\n",
    "# Decision Tree Regression\n",
    "# https://scikit-learn.org/stable/modules/generated/sklearn.tree.DecisionTreeRegressor.html\n",
    "# model = tree.DecisionTreeRegressor(random_state=2020)\n",
    "\n",
    "# Random Forest Regression\n",
    "# https://scikit-learn.org/stable/modules/generated/sklearn.ensemble.RandomForestRegressor.html\n",
    "model = ensemble.RandomForestRegressor(random_state=2020, n_estimators=100)"
   ]
  },
  {
   "cell_type": "code",
   "execution_count": 73,
   "metadata": {},
   "outputs": [
    {
     "name": "stdout",
     "output_type": "stream",
     "text": [
      "training split:  8941 ; test split:  3833\n"
     ]
    }
   ],
   "source": [
    "# Split training into some for training and some for testing\n",
    "Xtrain, Xtest, ytrain, ytest = model_selection.train_test_split(X, y, test_size=0.3)\n",
    "\n",
    "print(\"training split: \", len(Xtrain), \"; test split: \", len(Xtest))"
   ]
  },
  {
   "cell_type": "code",
   "execution_count": 85,
   "metadata": {},
   "outputs": [
    {
     "data": {
      "text/plain": [
       "RandomForestRegressor(bootstrap=True, criterion='mse', max_depth=None,\n",
       "                      max_features='auto', max_leaf_nodes=None,\n",
       "                      min_impurity_decrease=0.0, min_impurity_split=None,\n",
       "                      min_samples_leaf=1, min_samples_split=2,\n",
       "                      min_weight_fraction_leaf=0.0, n_estimators=100,\n",
       "                      n_jobs=None, oob_score=False, random_state=2020,\n",
       "                      verbose=0, warm_start=False)"
      ]
     },
     "execution_count": 85,
     "metadata": {},
     "output_type": "execute_result"
    }
   ],
   "source": [
    "# Perform regression on the data\n",
    "model.fit(X, y)"
   ]
  },
  {
   "cell_type": "code",
   "execution_count": 86,
   "metadata": {},
   "outputs": [
    {
     "data": {
      "text/plain": [
       "0.9203496414920359"
      ]
     },
     "execution_count": 86,
     "metadata": {},
     "output_type": "execute_result"
    }
   ],
   "source": [
    "model.score(Xtest, ytest)"
   ]
  },
  {
   "cell_type": "markdown",
   "metadata": {},
   "source": [
    "# Predict for Testing data"
   ]
  },
  {
   "cell_type": "code",
   "execution_count": 91,
   "metadata": {},
   "outputs": [
    {
     "data": {
      "text/html": [
       "<div>\n",
       "<style scoped>\n",
       "    .dataframe tbody tr th:only-of-type {\n",
       "        vertical-align: middle;\n",
       "    }\n",
       "\n",
       "    .dataframe tbody tr th {\n",
       "        vertical-align: top;\n",
       "    }\n",
       "\n",
       "    .dataframe thead th {\n",
       "        text-align: right;\n",
       "    }\n",
       "</style>\n",
       "<table border=\"1\" class=\"dataframe\">\n",
       "  <thead>\n",
       "    <tr style=\"text-align: right;\">\n",
       "      <th></th>\n",
       "      <th>DataBatch</th>\n",
       "      <th>Date</th>\n",
       "      <th>TotalVolume</th>\n",
       "      <th>4046</th>\n",
       "      <th>4225</th>\n",
       "      <th>4770</th>\n",
       "      <th>TotalBags</th>\n",
       "      <th>SmallBags</th>\n",
       "      <th>LargeBags</th>\n",
       "      <th>XLargeBags</th>\n",
       "      <th>type</th>\n",
       "      <th>region</th>\n",
       "    </tr>\n",
       "    <tr>\n",
       "      <th>id</th>\n",
       "      <th></th>\n",
       "      <th></th>\n",
       "      <th></th>\n",
       "      <th></th>\n",
       "      <th></th>\n",
       "      <th></th>\n",
       "      <th></th>\n",
       "      <th></th>\n",
       "      <th></th>\n",
       "      <th></th>\n",
       "      <th></th>\n",
       "      <th></th>\n",
       "    </tr>\n",
       "  </thead>\n",
       "  <tbody>\n",
       "    <tr>\n",
       "      <td>0</td>\n",
       "      <td>21</td>\n",
       "      <td>2016-07-31</td>\n",
       "      <td>28969.34</td>\n",
       "      <td>80.77</td>\n",
       "      <td>27361.91</td>\n",
       "      <td>0.00</td>\n",
       "      <td>1526.66</td>\n",
       "      <td>1526.66</td>\n",
       "      <td>0.00</td>\n",
       "      <td>0.00</td>\n",
       "      <td>1</td>\n",
       "      <td>Chicago</td>\n",
       "    </tr>\n",
       "    <tr>\n",
       "      <td>1</td>\n",
       "      <td>19</td>\n",
       "      <td>2017-08-20</td>\n",
       "      <td>322962.89</td>\n",
       "      <td>5632.85</td>\n",
       "      <td>242365.82</td>\n",
       "      <td>2441.56</td>\n",
       "      <td>72522.66</td>\n",
       "      <td>22942.48</td>\n",
       "      <td>46083.51</td>\n",
       "      <td>3496.67</td>\n",
       "      <td>0</td>\n",
       "      <td>NorthernNewEngland</td>\n",
       "    </tr>\n",
       "    <tr>\n",
       "      <td>2</td>\n",
       "      <td>49</td>\n",
       "      <td>2017-01-22</td>\n",
       "      <td>155334.45</td>\n",
       "      <td>3657.79</td>\n",
       "      <td>74068.65</td>\n",
       "      <td>0.00</td>\n",
       "      <td>77608.01</td>\n",
       "      <td>27302.29</td>\n",
       "      <td>50305.72</td>\n",
       "      <td>0.00</td>\n",
       "      <td>1</td>\n",
       "      <td>GreatLakes</td>\n",
       "    </tr>\n",
       "    <tr>\n",
       "      <td>3</td>\n",
       "      <td>12</td>\n",
       "      <td>2015-10-04</td>\n",
       "      <td>10231.74</td>\n",
       "      <td>341.89</td>\n",
       "      <td>8519.00</td>\n",
       "      <td>0.00</td>\n",
       "      <td>1370.85</td>\n",
       "      <td>303.33</td>\n",
       "      <td>1067.52</td>\n",
       "      <td>0.00</td>\n",
       "      <td>1</td>\n",
       "      <td>CincinnatiDayton</td>\n",
       "    </tr>\n",
       "    <tr>\n",
       "      <td>4</td>\n",
       "      <td>10</td>\n",
       "      <td>2015-10-18</td>\n",
       "      <td>10652.02</td>\n",
       "      <td>6905.95</td>\n",
       "      <td>39.52</td>\n",
       "      <td>0.00</td>\n",
       "      <td>3706.55</td>\n",
       "      <td>3706.55</td>\n",
       "      <td>0.00</td>\n",
       "      <td>0.00</td>\n",
       "      <td>1</td>\n",
       "      <td>Houston</td>\n",
       "    </tr>\n",
       "  </tbody>\n",
       "</table>\n",
       "</div>"
      ],
      "text/plain": [
       "    DataBatch        Date  TotalVolume     4046       4225     4770  \\\n",
       "id                                                                    \n",
       "0          21  2016-07-31     28969.34    80.77   27361.91     0.00   \n",
       "1          19  2017-08-20    322962.89  5632.85  242365.82  2441.56   \n",
       "2          49  2017-01-22    155334.45  3657.79   74068.65     0.00   \n",
       "3          12  2015-10-04     10231.74   341.89    8519.00     0.00   \n",
       "4          10  2015-10-18     10652.02  6905.95      39.52     0.00   \n",
       "\n",
       "    TotalBags  SmallBags  LargeBags  XLargeBags  type              region  \n",
       "id                                                                         \n",
       "0     1526.66    1526.66       0.00        0.00     1             Chicago  \n",
       "1    72522.66   22942.48   46083.51     3496.67     0  NorthernNewEngland  \n",
       "2    77608.01   27302.29   50305.72        0.00     1          GreatLakes  \n",
       "3     1370.85     303.33    1067.52        0.00     1    CincinnatiDayton  \n",
       "4     3706.55    3706.55       0.00        0.00     1             Houston  "
      ]
     },
     "execution_count": 91,
     "metadata": {},
     "output_type": "execute_result"
    }
   ],
   "source": [
    "# Clean Data\n",
    "\n",
    "# Drops missing values \n",
    "avo_TEST = avo_TEST.dropna(axis=0)\n",
    "\n",
    "# Convert strings to numbers\n",
    "avotypes = {\"conventional\": 0, \"organic\": 1}\n",
    "avo_TEST.type = [avotypes[x] for x in avo_TEST.type]\n",
    "avo_TEST.head()\n",
    "\n",
    "# Read more advanced ways to clean data\n",
    "# https://scikit-learn.org/stable/modules/generated/sklearn.preprocessing.LabelEncoder.html\n",
    "# https://stackoverflow.com/questions/24458645/label-encoding-across-multiple-columns-in-scikit-learn"
   ]
  },
  {
   "cell_type": "code",
   "execution_count": 94,
   "metadata": {},
   "outputs": [
    {
     "data": {
      "text/html": [
       "<div>\n",
       "<style scoped>\n",
       "    .dataframe tbody tr th:only-of-type {\n",
       "        vertical-align: middle;\n",
       "    }\n",
       "\n",
       "    .dataframe tbody tr th {\n",
       "        vertical-align: top;\n",
       "    }\n",
       "\n",
       "    .dataframe thead th {\n",
       "        text-align: right;\n",
       "    }\n",
       "</style>\n",
       "<table border=\"1\" class=\"dataframe\">\n",
       "  <thead>\n",
       "    <tr style=\"text-align: right;\">\n",
       "      <th></th>\n",
       "      <th>TotalVolume</th>\n",
       "      <th>TotalBags</th>\n",
       "      <th>type</th>\n",
       "    </tr>\n",
       "    <tr>\n",
       "      <th>id</th>\n",
       "      <th></th>\n",
       "      <th></th>\n",
       "      <th></th>\n",
       "    </tr>\n",
       "  </thead>\n",
       "  <tbody>\n",
       "    <tr>\n",
       "      <td>0</td>\n",
       "      <td>28969.34</td>\n",
       "      <td>1526.66</td>\n",
       "      <td>1</td>\n",
       "    </tr>\n",
       "    <tr>\n",
       "      <td>1</td>\n",
       "      <td>322962.89</td>\n",
       "      <td>72522.66</td>\n",
       "      <td>0</td>\n",
       "    </tr>\n",
       "    <tr>\n",
       "      <td>2</td>\n",
       "      <td>155334.45</td>\n",
       "      <td>77608.01</td>\n",
       "      <td>1</td>\n",
       "    </tr>\n",
       "    <tr>\n",
       "      <td>3</td>\n",
       "      <td>10231.74</td>\n",
       "      <td>1370.85</td>\n",
       "      <td>1</td>\n",
       "    </tr>\n",
       "    <tr>\n",
       "      <td>4</td>\n",
       "      <td>10652.02</td>\n",
       "      <td>3706.55</td>\n",
       "      <td>1</td>\n",
       "    </tr>\n",
       "  </tbody>\n",
       "</table>\n",
       "</div>"
      ],
      "text/plain": [
       "    TotalVolume  TotalBags  type\n",
       "id                              \n",
       "0      28969.34    1526.66     1\n",
       "1     322962.89   72522.66     0\n",
       "2     155334.45   77608.01     1\n",
       "3      10231.74    1370.85     1\n",
       "4      10652.02    3706.55     1"
      ]
     },
     "execution_count": 94,
     "metadata": {},
     "output_type": "execute_result"
    }
   ],
   "source": [
    "# Select features\n",
    "XforPredictions = avo_TEST[features]\n",
    "XforPredictions.head()"
   ]
  },
  {
   "cell_type": "code",
   "execution_count": 95,
   "metadata": {},
   "outputs": [
    {
     "name": "stdout",
     "output_type": "stream",
     "text": [
      "Predictions: [1.8974 1.2125 1.6219 ... 1.0382 1.6519 1.6041]\n"
     ]
    }
   ],
   "source": [
    "# Make Predictions!\n",
    "yPredictions = model.predict(XforPredictions)\n",
    "print(\"Predictions:\", yPredictions)"
   ]
  },
  {
   "cell_type": "code",
   "execution_count": 102,
   "metadata": {},
   "outputs": [
    {
     "name": "stdout",
     "output_type": "stream",
     "text": [
      "        id  AveragePrice\n",
      "0        0        1.8974\n",
      "1        1        1.2125\n",
      "2        2        1.6219\n",
      "3        3        1.5770\n",
      "4        4        1.3340\n",
      "...    ...           ...\n",
      "5470  5470        1.2406\n",
      "5471  5471        1.3151\n",
      "5472  5472        1.0382\n",
      "5473  5473        1.6519\n",
      "5474  5474        1.6041\n",
      "\n",
      "[5475 rows x 2 columns]\n"
     ]
    }
   ],
   "source": [
    "# Save to CSV File!\n",
    "output = pd.DataFrame({'id': XforPredictions.index, 'AveragePrice': yPredictions})\n",
    "output.to_csv('avocado-submission.csv', index=False)\n",
    "print(output)"
   ]
  },
  {
   "cell_type": "markdown",
   "metadata": {},
   "source": [
    "# Upload for grading"
   ]
  },
  {
   "cell_type": "code",
   "execution_count": 103,
   "metadata": {},
   "outputs": [
    {
     "name": "stdout",
     "output_type": "stream",
     "text": [
      "Downloaded pyctfsglib.py: True\n"
     ]
    }
   ],
   "source": [
    "# Download CTFSG Grader Libraries\n",
    "import urllib.request, os\n",
    "urllib.request.urlretrieve('https://raw.githubusercontent.com/alttablabs/ctfsg-utils/master/pyctfsglib.py', './pyctfsglib.py')\n",
    "print('Downloaded pyctfsglib.py:', 'pyctfsglib.py' in os.listdir())"
   ]
  },
  {
   "cell_type": "code",
   "execution_count": 105,
   "metadata": {},
   "outputs": [
    {
     "name": "stdout",
     "output_type": "stream",
     "text": [
      "DSGraderClient: Successfully Connected!\n",
      "[SERVER] MOTD: CHECK your USER_TOKEN and GRADER_URL HTTP address! I'm AVOCADO_PRICE TEST_GRADER_1\n"
     ]
    }
   ],
   "source": [
    "# Connect to graders\n",
    "import pyctfsglib as ctfsg\n",
    "import random\n",
    "\n",
    "USER_TOKEN = \"GkrXGPebTrqorLDvjfUfuFiCENZlkOcoYLHJTpATYsIvcPsQwEJZReudzaHpYdQL\" # You need to fill this up\n",
    "GRADER_URL = random.choice([ # Check if these are correct GRADER URLS for the specific challenge\n",
    "    \"http://127.0.0.1:12345/\"\n",
    "])\n",
    "\n",
    "grader = ctfsg.DSGraderClient(GRADER_URL, USER_TOKEN)"
   ]
  },
  {
   "cell_type": "code",
   "execution_count": 106,
   "metadata": {},
   "outputs": [
    {
     "name": "stdout",
     "output_type": "stream",
     "text": [
      "ProofOfWork Challenge =>  ('CTFSGRB194f23752c19febb71ed220dd2918c2b', 22)\n",
      "ProofOfWork Answer Found! =>  451842\n"
     ]
    },
    {
     "data": {
      "text/plain": [
       "'{\"challenge\":{\"name\":\"Competition Challenge 6\"},\"id\":\"ck85yj1ym03f90781vtkuzo2q\",\"status\":\"PARTIALLY_CORRECT\",\"multiplier\":0.4275,\"submittedBy\":{\"username\":\"member\"},\"createdAt\":\"2020-03-24T13:51:07Z\"}'"
      ]
     },
     "execution_count": 106,
     "metadata": {},
     "output_type": "execute_result"
    }
   ],
   "source": [
    "grader.submitFile('avocado-submission.csv')"
   ]
  },
  {
   "cell_type": "code",
   "execution_count": null,
   "metadata": {},
   "outputs": [],
   "source": []
  }
 ],
 "metadata": {
  "kernelspec": {
   "display_name": "Python 3",
   "language": "python",
   "name": "python3"
  },
  "language_info": {
   "codemirror_mode": {
    "name": "ipython",
    "version": 3
   },
   "file_extension": ".py",
   "mimetype": "text/x-python",
   "name": "python",
   "nbconvert_exporter": "python",
   "pygments_lexer": "ipython3",
   "version": "3.7.4"
  }
 },
 "nbformat": 4,
 "nbformat_minor": 2
}
