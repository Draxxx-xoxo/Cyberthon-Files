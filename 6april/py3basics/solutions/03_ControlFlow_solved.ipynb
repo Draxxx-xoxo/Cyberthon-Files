{
 "cells": [
  {
   "cell_type": "markdown",
   "metadata": {},
   "source": [
    "## Control Flow\n",
    "### If code was lyrics, then control flow is how to sing it"
   ]
  },
  {
   "cell_type": "code",
   "execution_count": 1,
   "metadata": {},
   "outputs": [
    {
     "name": "stdout",
     "output_type": "stream",
     "text": [
      "\n",
      "Part 03 of the CTFSG python series\n",
      "\n",
      "420 is greater than 42\n",
      "16 is lesser than 42\n",
      "num is 42\n"
     ]
    }
   ],
   "source": [
    "print(\"\\nPart 03 of the CTFSG python series\\n\")\n",
    "\n",
    "# sometimes we wanna do things based on conditions.\n",
    "# a simple way to control the flow of a program is \n",
    "# using if-else statements\n",
    "\n",
    "def relativeto42(num):\n",
    "  if num > 42:\n",
    "    print(f\"{num} is greater than 42\")\n",
    "  elif num < 42:\n",
    "    print(f\"{num} is lesser than 42\")\n",
    "  else:\n",
    "    print(\"num is 42\")\n",
    "\n",
    "relativeto42(420)\n",
    "relativeto42(16)\n",
    "relativeto42(42)"
   ]
  },
  {
   "cell_type": "code",
   "execution_count": 2,
   "metadata": {},
   "outputs": [
    {
     "name": "stdin",
     "output_type": "stream",
     "text": [
      "GIMME NUMBER TO TEST AGAINST 42?  123\n"
     ]
    },
    {
     "name": "stdout",
     "output_type": "stream",
     "text": [
      "123 is greater than 42\n"
     ]
    }
   ],
   "source": [
    "relativeto42(int(input(\"GIMME NUMBER TO TEST AGAINST 42? \")))"
   ]
  },
  {
   "cell_type": "code",
   "execution_count": 3,
   "metadata": {},
   "outputs": [
    {
     "name": "stdout",
     "output_type": "stream",
     "text": [
      "i is 0\n",
      "i is 1\n",
      "i is 2\n",
      "i is 3\n",
      "i is 4\n"
     ]
    }
   ],
   "source": [
    "# doing repetitive things makes the world economy move.\n",
    "# it helps us exploit economies of scale, similarly \n",
    "# it helps us process large amounts of data too.\n",
    "\n",
    "# looping\n",
    "for i in range(5):\n",
    "  print(f\"i is {i}\")"
   ]
  },
  {
   "cell_type": "code",
   "execution_count": 4,
   "metadata": {},
   "outputs": [
    {
     "name": "stdout",
     "output_type": "stream",
     "text": [
      "\n",
      "multiplication table:\n",
      "cols  |   1   2   3   4   5   6   7   8   9  10  11  12  13  14  15  16\n",
      "=======================================================================\n",
      "row  1|   1   2   3   4   5   6   7   8   9  10  11  12  13  14  15  16\n",
      "row  2|   2   4   6   8  10  12  14  16  18  20  22  24  26  28  30  32\n",
      "row  3|   3   6   9  12  15  18  21  24  27  30  33  36  39  42  45  48\n",
      "row  4|   4   8  12  16  20  24  28  32  36  40  44  48  52  56  60  64\n",
      "row  5|   5  10  15  20  25  30  35  40  45  50  55  60  65  70  75  80\n",
      "row  6|   6  12  18  24  30  36  42  48  54  60  66  72  78  84  90  96\n",
      "row  7|   7  14  21  28  35  42  49  56  63  70  77  84  91  98 105 112\n",
      "row  8|   8  16  24  32  40  48  56  64  72  80  88  96 104 112 120 128\n"
     ]
    }
   ],
   "source": [
    "print(\"\\nmultiplication table:\")\n",
    "# nested looping \n",
    "tblsize = (9, 17)\n",
    "for row in range(0, tblsize[0]):\n",
    "  if row == 0:\n",
    "    header = \"cols  | \" + ' '.join([f\"{x:3d}\" for x in range(1, tblsize[1])])\n",
    "    print(header)\n",
    "    print(\"=\"*len(header))\n",
    "  else:\n",
    "    print(f\"row {row:2d}|\", end=\"\")\n",
    "    for col in range(1, tblsize[1]):\n",
    "      print(f\" {col*row:3d}\", end=\"\")\n",
    "    print(\"\") # new line"
   ]
  },
  {
   "cell_type": "code",
   "execution_count": 5,
   "metadata": {},
   "outputs": [
    {
     "name": "stdin",
     "output_type": "stream",
     "text": [
      "\n",
      "upper bound for search?  10000\n"
     ]
    },
    {
     "name": "stdout",
     "output_type": "stream",
     "text": [
      "iter 0: 10000\n",
      "iter 1: 5000.0\n",
      "iter 2: 2500.0\n",
      "iter 3: 1250.0\n",
      "iter 4: 625.0\n",
      "iter 5: 312.5\n",
      "iter 6: 156.25\n",
      "iter 7: 78.125\n",
      "iter 8: 39.0625\n",
      "iter 9: 19.53125\n",
      "iter 10: 9.765625\n",
      "iter 11: 4.8828125\n",
      "iter 12: 2.44140625\n",
      "iter 13: 1.220703125\n"
     ]
    }
   ],
   "source": [
    "# while looping\n",
    "maxvalue = 0\n",
    "try: # for risky manoeuvres\n",
    "  maxvalue = int(input(\"\\nupper bound for search? \"))\n",
    "except: # catch the error\n",
    "  print(\"can you enter a proper number next time :(\")\n",
    "  exit() # harakiri\n",
    "\n",
    "halves = []\n",
    "while maxvalue > 1:\n",
    "  print(f\"iter {len(halves)}: {maxvalue}\")\n",
    "  maxvalue /= 2.0\n",
    "  halves.append(maxvalue)"
   ]
  },
  {
   "cell_type": "code",
   "execution_count": 6,
   "metadata": {},
   "outputs": [
    {
     "name": "stdout",
     "output_type": "stream",
     "text": [
      "['small', 'small', 'small', '4', '5', '6', '7', '8', '9']\n"
     ]
    }
   ],
   "source": [
    "# if-else and loops together as one!\n",
    "print([ \"small\" if x < 4 else str(x) for x in range(1, 10)])"
   ]
  },
  {
   "cell_type": "code",
   "execution_count": 7,
   "metadata": {},
   "outputs": [
    {
     "name": "stdout",
     "output_type": "stream",
     "text": [
      "I'm still alive... Control-C to quit!\n",
      "I'm still alive... Control-C to quit!\n"
     ]
    },
    {
     "ename": "KeyboardInterrupt",
     "evalue": "",
     "output_type": "error",
     "traceback": [
      "\u001b[0;31m---------------------------------------------------------------------------\u001b[0m",
      "\u001b[0;31mKeyboardInterrupt\u001b[0m                         Traceback (most recent call last)",
      "\u001b[0;32m/var/folders/dj/n6jxr1lj6d7cvp135_87cbmw0000gn/T/ipykernel_12128/1053387084.py\u001b[0m in \u001b[0;36m<module>\u001b[0;34m\u001b[0m\n\u001b[1;32m      4\u001b[0m \u001b[0;32mwhile\u001b[0m \u001b[0;32mTrue\u001b[0m\u001b[0;34m:\u001b[0m \u001b[0;31m# loop forever\u001b[0m\u001b[0;34m\u001b[0m\u001b[0;34m\u001b[0m\u001b[0m\n\u001b[1;32m      5\u001b[0m   \u001b[0mprint\u001b[0m\u001b[0;34m(\u001b[0m\u001b[0;34m\"I'm still alive... Control-C to quit!\"\u001b[0m\u001b[0;34m)\u001b[0m\u001b[0;34m\u001b[0m\u001b[0;34m\u001b[0m\u001b[0m\n\u001b[0;32m----> 6\u001b[0;31m   \u001b[0msleep\u001b[0m\u001b[0;34m(\u001b[0m\u001b[0;36m5\u001b[0m\u001b[0;34m)\u001b[0m \u001b[0;31m# cos we tired from a long day's work\u001b[0m\u001b[0;34m\u001b[0m\u001b[0;34m\u001b[0m\u001b[0m\n\u001b[0m",
      "\u001b[0;31mKeyboardInterrupt\u001b[0m: "
     ]
    }
   ],
   "source": [
    "from time import sleep # import sleep function\n",
    "\n",
    "# REMOVE THIS WHEN ITS GETS ANNOYING\n",
    "while True: # loop forever\n",
    "  print(\"I'm still alive... Control-C to quit!\")\n",
    "  sleep(5) # cos we tired from a long day's work"
   ]
  },
  {
   "cell_type": "code",
   "execution_count": 8,
   "metadata": {},
   "outputs": [
    {
     "name": "stdout",
     "output_type": "stream",
     "text": [
      "   1   2   @   4   #   @   7   8   @   #\n",
      "  11   @  13  14   $  16  17   @  19   #\n",
      "   @  22  23   @   #  26   @  28  29   $\n",
      "  31  32   @  34   #   @  37  38   @   #\n",
      "  41   @  43  44   $  46  47   @  49   #\n",
      "   @  52  53   @   #  56   @  58  59   $\n",
      "  61  62   @  64   #   @  67  68   @   #\n",
      "  71   @  73  74   $  76  77   @  79   #\n",
      "   @  82  83   @   #  86   @  88  89   $\n",
      "  91  92   @  94   #   @  97  98   @   #\n"
     ]
    }
   ],
   "source": [
    "# CHALLENGE!\n",
    "#TODO: print out a 10x10 table where all multiples of 3 are \"@\" and all \n",
    "#      multiples of 5 are \"#\" but multiples of both 3 and 5 are \"$\", the\n",
    "#      other numbers are printed as is.\n",
    "\n",
    "for row in range(0, 10):\n",
    "    for col in range(0, 10):\n",
    "        cellvalue = row*10 + col + 1\n",
    "        toprint = f\"{cellvalue:4d}\"\n",
    "        if cellvalue % 3 == 0:\n",
    "            if cellvalue % 5 == 0:\n",
    "                toprint = \"   $\"\n",
    "            else:\n",
    "                toprint = \"   @\"\n",
    "        elif cellvalue % 5 == 0:\n",
    "            toprint = \"   #\"\n",
    "        print(toprint, end=\"\")\n",
    "    print()"
   ]
  },
  {
   "cell_type": "code",
   "execution_count": 9,
   "metadata": {},
   "outputs": [
    {
     "name": "stdout",
     "output_type": "stream",
     "text": [
      "[True, True, True, True, False, True, False, True, False, False, False, True, False, True, False, False, False, True, False, True, False, False, False, True, False, False, False, False, False, True, False, True, False, False, False, False, False, True, False, False, False, True, False, True, False, False, False, True, False, False, False, False, False, True, False, False, False, False, False, True, False, True, False, False, False, False, False, True, False, False, False, True, False, True, False, False, False, False, False, True, False, False, False, True, False, False, False, False, False, True, False, False, False, False, False, False, False, True, False, False] \n",
      "\n",
      "PRIMES < 100\n",
      "=================\n",
      "2\n",
      "3\n",
      "5\n",
      "7\n",
      "11\n",
      "13\n",
      "17\n",
      "19\n",
      "23\n",
      "29\n",
      "31\n",
      "37\n",
      "41\n",
      "43\n",
      "47\n",
      "53\n",
      "59\n",
      "61\n",
      "67\n",
      "71\n",
      "73\n",
      "79\n",
      "83\n",
      "89\n",
      "97\n"
     ]
    }
   ],
   "source": [
    "#TODO: find all primes smaller than a user defined upper bound\n",
    "#HINT: a good-old algorithm for finding primes is the \"Sieve of Eratosthenes\"\n",
    "\n",
    "UPPER_BOUND = 100\n",
    "sieve = [True for i in range(UPPER_BOUND)]\n",
    "\n",
    "for i in range(2, int(UPPER_BOUND**0.5)+1):\n",
    "    if sieve[i]:\n",
    "        for j in range(2*i, UPPER_BOUND, i):\n",
    "            sieve[j] = False\n",
    "            \n",
    "print(sieve, f\"\\n\\nPRIMES < {UPPER_BOUND}\\n=================\")\n",
    "for i in range(len(sieve)):\n",
    "    if sieve[i] and i > 1:\n",
    "        print(i)"
   ]
  },
  {
   "cell_type": "code",
   "execution_count": null,
   "metadata": {},
   "outputs": [],
   "source": []
  }
 ],
 "metadata": {
  "kernelspec": {
   "display_name": "Python 3 (ipykernel)",
   "language": "python",
   "name": "python3"
  },
  "language_info": {
   "codemirror_mode": {
    "name": "ipython",
    "version": 3
   },
   "file_extension": ".py",
   "mimetype": "text/x-python",
   "name": "python",
   "nbconvert_exporter": "python",
   "pygments_lexer": "ipython3",
   "version": "3.9.5"
  }
 },
 "nbformat": 4,
 "nbformat_minor": 4
}
