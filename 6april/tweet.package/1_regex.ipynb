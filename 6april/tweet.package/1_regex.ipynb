{
 "cells": [
  {
   "cell_type": "code",
   "execution_count": null,
   "id": "a5a0fbab-9856-4f08-9b89-f65a2489d3c1",
   "metadata": {},
   "outputs": [],
   "source": [
    "# Cyberthon Data Science Training Materials\n",
    "# Author: Ragul Balaji <ragulbalaji@ctf.sg>\n",
    "# Dataset: Public Domain\n",
    "# ALT-TAB LABS LLP (C) 2019-present"
   ]
  },
  {
   "cell_type": "markdown",
   "id": "5514b0c7",
   "metadata": {},
   "source": [
    "Uncomment the following to install pandas if you have not already done so."
   ]
  },
  {
   "cell_type": "code",
   "execution_count": null,
   "id": "f11c56ba",
   "metadata": {},
   "outputs": [],
   "source": [
    "# !pip install pandas==2.2.1"
   ]
  },
  {
   "cell_type": "code",
   "execution_count": null,
   "id": "62716e64-5f57-495f-b386-37f7f3855e28",
   "metadata": {},
   "outputs": [],
   "source": [
    "# load in dataset\n",
    "import pandas as pd\n",
    "trainset = pd.read_csv(\"train.csv\")\n",
    "trainset.head()"
   ]
  },
  {
   "cell_type": "code",
   "execution_count": null,
   "id": "7b252e98",
   "metadata": {},
   "outputs": [],
   "source": [
    "trainset[\"status\"].iloc[10]"
   ]
  },
  {
   "cell_type": "code",
   "execution_count": null,
   "id": "5d2c4822-62dc-4ea9-af13-e0b3c7b2c595",
   "metadata": {},
   "outputs": [],
   "source": [
    "# Task 1: Use RegEx to extract all @mentions, #hashtags and \"https://t.co/\" URLs from train set\n",
    "\n",
    "# useful resources:\n",
    "# https://regexland.com/most-common-regular-expressions/\n",
    "# https://regexone.com\n",
    "# https://regex101.com/\n",
    "# https://pythex.org/\n",
    "\n",
    "import re\n",
    "\n",
    "mentions = []\n",
    "hashtags = []\n",
    "URLs     = []\n",
    "\n",
    "for status in trainset['status']:\n",
    "    mentions.extend(re.findall(r'<fill in this part>', status))\n",
    "    hashtags.extend(re.findall(r'<fill in this part>', status))\n",
    "    URLs.extend(re.findall(r'<fill in this part>', status))\n",
    "\n",
    "# print only first 16 of each category\n",
    "print('Mentions -->', mentions[:16])\n",
    "print('\\n\\nURLs -->', URLs[:16])\n",
    "print('\\n\\nHashtags -->', hashtags[:16])"
   ]
  },
  {
   "cell_type": "markdown",
   "id": "5bc44a1b",
   "metadata": {},
   "source": [
    "Question: Do you think we can change [a-zA-Z0-9] to something shorter?"
   ]
  },
  {
   "cell_type": "code",
   "execution_count": null,
   "id": "bfd8a0c3-8495-4dc9-b57b-dbc412e05678",
   "metadata": {},
   "outputs": [],
   "source": []
  }
 ],
 "metadata": {
  "kernelspec": {
   "display_name": "Python 3 (ipykernel)",
   "language": "python",
   "name": "python3"
  },
  "language_info": {
   "codemirror_mode": {
    "name": "ipython",
    "version": 3
   },
   "file_extension": ".py",
   "mimetype": "text/x-python",
   "name": "python",
   "nbconvert_exporter": "python",
   "pygments_lexer": "ipython3",
   "version": "3.10.13"
  }
 },
 "nbformat": 4,
 "nbformat_minor": 5
}
