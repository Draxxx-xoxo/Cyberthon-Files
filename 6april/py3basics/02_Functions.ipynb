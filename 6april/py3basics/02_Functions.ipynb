{
 "cells": [
  {
   "cell_type": "markdown",
   "metadata": {},
   "source": [
    "## FUNctions!\n",
    "### stop writing similar code again and again, reuse them!"
   ]
  },
  {
   "cell_type": "code",
   "execution_count": null,
   "metadata": {},
   "outputs": [],
   "source": [
    "print(\"\\nPart 02 of the CTFSG python series\\n\")\n",
    "\n",
    "def adder(argumentA, argumentB):\n",
    "    return argumentA + argumentB\n",
    "\n",
    "print(\"9000 + 1 =\", adder(9000, 1))"
   ]
  },
  {
   "cell_type": "code",
   "execution_count": null,
   "metadata": {},
   "outputs": [],
   "source": [
    "# you can make blocks of code like this\n",
    "def blockofcode(argument1):\n",
    "  # indentation is very important in python! \n",
    "  # other languages use {} to bound a block\n",
    "  # but python uses the indentation levels\n",
    "  print(\"someone called me with this:\", argument1)\n",
    "  somelocalvariable = argument1 ** 5 # shorthand for exponentiation\n",
    "  somelocalvariable /= 42_000_000_000 # easier to read bigger numbers this way \"_\" is ignored\n",
    "  print(\"and calculated this from it:\", somelocalvariable, \"\\n\")\n",
    "\n",
    "  return (\"somelocalvariable\", {\"answer\": somelocalvariable}) # return stuff back to caller\n",
    "\n",
    "# call the function to run it\n",
    "blockofcode(1234)\n",
    "# function help us reduce writing similar code again and again\n",
    "blockofcode(2345)\n",
    "\n",
    "returnedstuff = blockofcode(3456)\n",
    "print(\"returned stuff:\", returnedstuff[1][\"answer\"])"
   ]
  },
  {
   "cell_type": "code",
   "execution_count": null,
   "metadata": {},
   "outputs": [],
   "source": [
    "# we can use some of the built in functions\n",
    "# https://docs.python.org/3/library/functions.html\n",
    "nums = [x for x in range(101)]\n",
    "print(\"sum(nums):\", sum(nums))  # sum stuff"
   ]
  },
  {
   "cell_type": "code",
   "execution_count": null,
   "metadata": {},
   "outputs": [],
   "source": [
    "name = input(\"your name? \")     # get user input from command line\n",
    "print(name)"
   ]
  },
  {
   "cell_type": "code",
   "execution_count": null,
   "metadata": {},
   "outputs": [],
   "source": [
    "print(\"Hello %s, your name is %d chars long!\" % (name, len(name)))  # format strings! (C style)\n",
    "print(f\"Hello {name}, your name is {len(name)} chars long!\")        # f strings!      (Pythonic, Nodejs like)"
   ]
  },
  {
   "cell_type": "code",
   "execution_count": null,
   "metadata": {},
   "outputs": [],
   "source": [
    "print(\"ASCII values:\", [ord(c) for c in name])"
   ]
  },
  {
   "cell_type": "code",
   "execution_count": null,
   "metadata": {},
   "outputs": [],
   "source": [
    "# more complicated examples\n",
    "def specialadd(first = 1, second = 2): # arguments with default values\n",
    "  return first + second\n",
    "\n",
    "print(\"No arguments (defaults used):\", specialadd())\n",
    "\n",
    "print(\"Some arguments (defaults used for others):\",              specialadd(100))\n",
    "print(\"Some arguments (defaults used for others) NOT IN ORDER:\", specialadd(second=100))\n",
    "\n",
    "print(\"All arguments given by user:\", specialadd(100, 200))"
   ]
  },
  {
   "cell_type": "code",
   "execution_count": null,
   "metadata": {},
   "outputs": [],
   "source": [
    "def longadder(*arguments):\n",
    "  print(' + '.join([str(x) for x in arguments]), \"=\", sum(arguments))\n",
    "\n",
    "longadder(1,2,3)\n",
    "longadder(1,2,3,4,5,6)\n",
    "longadder(1,2,3,4,5,6,7,8,9)"
   ]
  },
  {
   "cell_type": "code",
   "execution_count": null,
   "metadata": {},
   "outputs": [],
   "source": [
    "# you can also import libraries with functionality in them to use\n",
    "# https://docs.python.org/3/library/\n",
    "import math # useful inbuilt library\n",
    "print(\"e * pi:\", math.e * math.pi)\n",
    "print(\"10! = \", math.factorial(10))"
   ]
  },
  {
   "cell_type": "code",
   "execution_count": null,
   "metadata": {},
   "outputs": [],
   "source": [
    "import random # useful inbuilt library\n",
    "print(\"random number:\", random.random())\n",
    "print(\"random number:\", random.random())\n",
    "print(\"random number:\", random.random())\n",
    "print(\"random number:\", random.random())\n",
    "\n",
    "print(\"random integer:\", random.randint(10, 20))\n",
    "print(\"random integer:\", random.randint(10, 20))\n",
    "print(\"random integer:\", random.randint(10, 20))\n",
    "print(\"random integer:\", random.randint(10, 20))"
   ]
  },
  {
   "cell_type": "code",
   "execution_count": null,
   "metadata": {},
   "outputs": [],
   "source": [
    "# import only specific functions from a library\n",
    "from base64 import b64encode, b64decode\n",
    "encodedresult = b64encode(name.encode())\n",
    "print(\"b64 ENcoded:\", encodedresult)\n",
    "print(\"b64 DEcoded:\", b64decode(encodedresult))"
   ]
  },
  {
   "cell_type": "code",
   "execution_count": null,
   "metadata": {},
   "outputs": [],
   "source": [
    "from hashlib import blake2b as fasterthansha256 # rename them while importing\n",
    "thehashstring = fasterthansha256(b\"password\").hexdigest()\n",
    "print(\"blake2b hash of password:\", thehashstring)"
   ]
  },
  {
   "cell_type": "code",
   "execution_count": null,
   "metadata": {},
   "outputs": [],
   "source": [
    "# output to a file\n",
    "filehandle = open('thehash.txt','w')\n",
    "filehandle.write(\"blake2b hash of password:\\n\")\n",
    "filehandle.write(thehashstring)\n",
    "filehandle.write(\"\\n\\nhave a nice day!\")\n",
    "filehandle.close()"
   ]
  },
  {
   "cell_type": "code",
   "execution_count": null,
   "metadata": {},
   "outputs": [],
   "source": [
    "# verify file contents by reading it back\n",
    "with open('thehash.txt','r') as filehandle:\n",
    "  print(f\"Stuff written to thehash.txt:\\n\\n{filehandle.read()}\")"
   ]
  },
  {
   "cell_type": "code",
   "execution_count": null,
   "metadata": {},
   "outputs": [],
   "source": [
    "# you can install new libraries from online via pip or conda or any other package manager\n",
    "# for example after you \"pip install matplotlib\" you can use it for plotting pretty charts\n",
    "\n",
    "# UNCOMMENT THE FOLLOWING LINES IF YOU HAVE matplotlib INSTALLED\n",
    "# import matplotlib.pyplot as plt\n",
    "# plt.plot([x**3 - x + 10  for x in range(-20,20)])\n",
    "# plt.show()\n",
    "\n",
    "# CHALLENGE!\n",
    "#TODO: write a function to get user input then return the sha256 and md5 hash of that input\n",
    "\n",
    "# BONUS: Learn about lambdas (short functions) \n",
    "# https://www.w3schools.com/python/python_lambda.asp"
   ]
  },
  {
   "cell_type": "code",
   "execution_count": null,
   "metadata": {},
   "outputs": [],
   "source": []
  }
 ],
 "metadata": {
  "kernelspec": {
   "display_name": "Python 3 (ipykernel)",
   "language": "python",
   "name": "python3"
  },
  "language_info": {
   "codemirror_mode": {
    "name": "ipython",
    "version": 3
   },
   "file_extension": ".py",
   "mimetype": "text/x-python",
   "name": "python",
   "nbconvert_exporter": "python",
   "pygments_lexer": "ipython3",
   "version": "3.9.5"
  }
 },
 "nbformat": 4,
 "nbformat_minor": 4
}
