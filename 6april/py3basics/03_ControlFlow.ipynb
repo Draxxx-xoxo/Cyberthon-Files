{
 "cells": [
  {
   "cell_type": "markdown",
   "metadata": {},
   "source": [
    "## Control Flow\n",
    "### If code was lyrics, then control flow is how to sing it"
   ]
  },
  {
   "cell_type": "code",
   "execution_count": null,
   "metadata": {},
   "outputs": [],
   "source": [
    "print(\"\\nPart 03 of the CTFSG python series\\n\")\n",
    "\n",
    "# sometimes we wanna do things based on conditions.\n",
    "# a simple way to control the flow of a program is \n",
    "# using if-else statements\n",
    "\n",
    "def relativeto42(num):\n",
    "  if num > 42:\n",
    "    print(f\"{num} is greater than 42\")\n",
    "  elif num < 42:\n",
    "    print(f\"{num} is lesser than 42\")\n",
    "  else:\n",
    "    print(\"num is 42\")\n",
    "\n",
    "relativeto42(420)\n",
    "relativeto42(16)\n",
    "relativeto42(42)"
   ]
  },
  {
   "cell_type": "code",
   "execution_count": null,
   "metadata": {},
   "outputs": [],
   "source": [
    "relativeto42(int(input(\"GIMME NUMBER TO TEST AGAINST 42? \")))"
   ]
  },
  {
   "cell_type": "code",
   "execution_count": null,
   "metadata": {},
   "outputs": [],
   "source": [
    "# doing repetitive things makes the world economy move.\n",
    "# it helps us exploit economies of scale, similarly \n",
    "# it helps us process large amounts of data too.\n",
    "\n",
    "# looping\n",
    "for i in range(5):\n",
    "  print(f\"i is {i}\")"
   ]
  },
  {
   "cell_type": "code",
   "execution_count": null,
   "metadata": {},
   "outputs": [],
   "source": [
    "print(\"\\nmultiplication table:\")\n",
    "# nested looping \n",
    "tblsize = (9, 17)\n",
    "for row in range(0, tblsize[0]):\n",
    "  if row == 0:\n",
    "    header = \"cols  | \" + ' '.join([f\"{x:3d}\" for x in range(1, tblsize[1])])\n",
    "    print(header)\n",
    "    print(\"=\"*len(header))\n",
    "  else:\n",
    "    print(f\"row {row:2d}|\", end=\"\")\n",
    "    for col in range(1, tblsize[1]):\n",
    "      print(f\" {col*row:3d}\", end=\"\")\n",
    "    print(\"\") # new line"
   ]
  },
  {
   "cell_type": "code",
   "execution_count": null,
   "metadata": {},
   "outputs": [],
   "source": [
    "# while looping\n",
    "maxvalue = 0\n",
    "try: # for risky manoeuvres\n",
    "  maxvalue = int(input(\"\\nupper bound for search? \"))\n",
    "except: # catch the error\n",
    "  print(\"can you enter a proper number next time :(\")\n",
    "  exit() # harakiri\n",
    "\n",
    "halves = []\n",
    "while maxvalue > 1:\n",
    "  print(f\"iter {len(halves)}: {maxvalue}\")\n",
    "  maxvalue /= 2.0\n",
    "  halves.append(maxvalue)"
   ]
  },
  {
   "cell_type": "code",
   "execution_count": null,
   "metadata": {},
   "outputs": [],
   "source": [
    "# if-else and loops together as one!\n",
    "print([ \"small\" if x < 4 else str(x) for x in range(1, 10)])"
   ]
  },
  {
   "cell_type": "code",
   "execution_count": null,
   "metadata": {},
   "outputs": [],
   "source": [
    "from time import sleep # import sleep function\n",
    "\n",
    "# REMOVE THIS WHEN ITS GETS ANNOYING\n",
    "while True: # loop forever\n",
    "  print(\"I'm still alive... Control-C to quit!\")\n",
    "  sleep(5) # cos we tired from a long day's work"
   ]
  },
  {
   "cell_type": "code",
   "execution_count": null,
   "metadata": {},
   "outputs": [],
   "source": [
    "# CHALLENGE!\n",
    "#TODO: print out a 10x10 table where all multiples of 3 are \"@\" and all \n",
    "#      multiples of 5 are \"#\" but multiples of both 3 and 5 are \"$\", the\n",
    "#      other numbers are printed as is.\n",
    "\n",
    "#TODO: find all primes smaller than a user defined upper bound\n",
    "#HINT: a good-old algorithm for finding primes is the \"Sieve of Eratosthenes\""
   ]
  }
 ],
 "metadata": {
  "kernelspec": {
   "display_name": "Python 3 (ipykernel)",
   "language": "python",
   "name": "python3"
  },
  "language_info": {
   "codemirror_mode": {
    "name": "ipython",
    "version": 3
   },
   "file_extension": ".py",
   "mimetype": "text/x-python",
   "name": "python",
   "nbconvert_exporter": "python",
   "pygments_lexer": "ipython3",
   "version": "3.9.5"
  }
 },
 "nbformat": 4,
 "nbformat_minor": 4
}
