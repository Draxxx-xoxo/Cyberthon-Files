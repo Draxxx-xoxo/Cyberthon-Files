{
 "cells": [
  {
   "cell_type": "markdown",
   "metadata": {},
   "source": [
    "## Variables\n",
    "### little bits of memory where you store your work and results"
   ]
  },
  {
   "cell_type": "code",
   "execution_count": null,
   "metadata": {},
   "outputs": [],
   "source": [
    "print(\"\\nPart 01 of the CTFSG python series\\n\")\n",
    "\n",
    "# Variables can hold data, you must declare them like:\n",
    "x = 10          # integers\n",
    "y = 20.5        # floatingW points\n",
    "z = 1+2j        # complex numbers\n",
    "\n",
    "# Variable names are case sensitive and cannot begin with numbers.\n",
    "# Good programming practice is naming the variable well to represent their purpose\n",
    "\n",
    "# can represent them in other ways\n",
    "print(\"printing diff. number representations:\", x, bin(x), hex(x), oct(x))\n",
    "print(\"inputing diff. number representations:\", 42, 0b101010, 0x2a, 0o52)"
   ]
  },
  {
   "cell_type": "code",
   "execution_count": null,
   "metadata": {},
   "outputs": [],
   "source": [
    "# Can use them as arguments to other functions\n",
    "print(\"1  >>\", x, y, z)\n",
    "\n",
    "# using the type(<thing>) function we can find what are the types of things\n",
    "print(\"2  >>\", type(x), type(y), type(z))"
   ]
  },
  {
   "cell_type": "code",
   "execution_count": null,
   "metadata": {},
   "outputs": [],
   "source": [
    "# doing some arithmetic\n",
    "print(\"3  >>\", x + y)\n",
    "print(\"4  >>\", x - y)\n",
    "print(\"5  >>\", x * y)\n",
    "print(\"6  >>\", x / y)"
   ]
  },
  {
   "cell_type": "code",
   "execution_count": null,
   "metadata": {},
   "outputs": [],
   "source": [
    "# you can update variables anytime after creation\n",
    "x = 5\n",
    "\n",
    "# doing more arithmetic\n",
    "print(\"7  >>\", x + y)\n",
    "print(\"8  >>\", x - y)\n",
    "print(\"9  >>\", x * y)\n",
    "print(\"10 >>\", x / y)"
   ]
  },
  {
   "cell_type": "code",
   "execution_count": null,
   "metadata": {},
   "outputs": [],
   "source": [
    "# even more arithmetic\n",
    "print(\"11 >>\", y * z)\n",
    "print(\"12 >>\", z * z)\n",
    "\n",
    "print(\"13 >>\", 100  / 3)\n",
    "print(\"14 >>\", 100 // 3) # floor divison\n",
    "print(\"15 >>\", 100  % 3) # modulo (remainder after divison)"
   ]
  },
  {
   "cell_type": "code",
   "execution_count": null,
   "metadata": {},
   "outputs": [],
   "source": [
    "name = \"Ragul\"  # string (of characters)\n",
    "print(name, \"was here\\t\\t\", 1337)"
   ]
  },
  {
   "cell_type": "code",
   "execution_count": null,
   "metadata": {},
   "outputs": [],
   "source": [
    "# neat python trick for repeating strings\n",
    "print( (name + \" \") * x )"
   ]
  },
  {
   "cell_type": "code",
   "execution_count": null,
   "metadata": {},
   "outputs": [],
   "source": [
    "# boolean logic\n",
    "someboolean = True\n",
    "print(someboolean, not someboolean)\n",
    "print(True or False)        # or\n",
    "print(True and False)       # and\n",
    "print(True ^ False)         # xor\n",
    "print(not (False or False)) # nor"
   ]
  },
  {
   "cell_type": "code",
   "execution_count": null,
   "metadata": {},
   "outputs": [],
   "source": [
    "# collections of variables\n",
    "# lists\n",
    "somelist = [1, 2, 3,\"four\"]\n",
    "print(\"somelist:\", somelist, \"\\n\\tcontains\", len(somelist), \"items inside\\n\")\n",
    "\n",
    "secondlist = [5, 6, 7, 8, [41, 42, 43]]\n",
    "somelist += secondlist\n",
    "print(\"somelist:\", somelist, \"\\n\\tcontains\", len(somelist), \"items inside\\n\")\n",
    "\n",
    "somelist.append(10)\n",
    "print(\"somelist:\", somelist, \"\\n\\tcontains\", len(somelist), \"items inside\\n\")"
   ]
  },
  {
   "cell_type": "code",
   "execution_count": null,
   "metadata": {},
   "outputs": [],
   "source": [
    "# indexing\n",
    "print(somelist[0], somelist[3], somelist[-1], somelist[-7])\n",
    "print(somelist[8])\n",
    "print(somelist[8][1], somelist[8][2])"
   ]
  },
  {
   "cell_type": "code",
   "execution_count": null,
   "metadata": {},
   "outputs": [],
   "source": [
    "# slicing arrays\n",
    "print(somelist[:5])\n",
    "print(somelist[1:7])\n",
    "print(somelist[1:7:2])\n",
    "print(somelist[-3:])\n",
    "print(somelist[::-1])"
   ]
  },
  {
   "cell_type": "code",
   "execution_count": null,
   "metadata": {},
   "outputs": [],
   "source": [
    "# list comprehension\n",
    "print(\"list of cubes:\", [ x*x*x for x in range(10)])\n",
    "print(\"nested example:\", [ [x*y for y in range(4)] for x in range(3)])"
   ]
  },
  {
   "cell_type": "code",
   "execution_count": null,
   "metadata": {},
   "outputs": [],
   "source": [
    "# tuples (similar to lists)\n",
    "ahumbletuple = (1, 2, 3)\n",
    "print(ahumbletuple, ahumbletuple[1])\n",
    "# YOU CANNOT MODIFY TUPLES UNLIKE LISTS !! ahumbletuple[1] += 1 will not work"
   ]
  },
  {
   "cell_type": "code",
   "execution_count": null,
   "metadata": {},
   "outputs": [],
   "source": [
    "# dictionaries (key-value pairs)\n",
    "users = {\"player\": \"password\", \"admin\": \"SuwuperSecretPassword\", \"CIO\": \"do not store passwords like this\"}\n",
    "print(users[\"CIO\"], users[\"admin\"])\n",
    "\n",
    "users[\"newguy\"] = \"lmaowhatsup\"\n",
    "del users[\"CIO\"]\n",
    "print(users)"
   ]
  },
  {
   "cell_type": "code",
   "execution_count": null,
   "metadata": {},
   "outputs": [],
   "source": [
    "# CHALLENGE!\n",
    "#TODO: make a dictionary where the keys are 0 to 10 and the value is the first 10 multiples of the key using list comprehension"
   ]
  },
  {
   "cell_type": "code",
   "execution_count": null,
   "metadata": {},
   "outputs": [],
   "source": []
  }
 ],
 "metadata": {
  "kernelspec": {
   "display_name": "Python 3 (ipykernel)",
   "language": "python",
   "name": "python3"
  },
  "language_info": {
   "codemirror_mode": {
    "name": "ipython",
    "version": 3
   },
   "file_extension": ".py",
   "mimetype": "text/x-python",
   "name": "python",
   "nbconvert_exporter": "python",
   "pygments_lexer": "ipython3",
   "version": "3.9.5"
  }
 },
 "nbformat": 4,
 "nbformat_minor": 4
}
